{
 "cells": [
  {
   "cell_type": "code",
   "execution_count": 40,
   "metadata": {
    "collapsed": false
   },
   "outputs": [
    {
     "data": {
      "text/html": [
       "<style>.container { width:100% !important; }</style>"
      ],
      "text/plain": [
       "<IPython.core.display.HTML object>"
      ]
     },
     "execution_count": 40,
     "metadata": {},
     "output_type": "execute_result"
    }
   ],
   "source": [
    "import pandas as pd\n",
    "import numpy as np\n",
    "import matplotlib.pyplot as plt\n",
    "import re\n",
    "import sqlite3\n",
    "%matplotlib inline\n",
    "from IPython.core.display import HTML\n",
    "pd.options.display.max_columns = 50\n",
    "import seaborn as sb\n",
    "import datetime\n",
    "HTML(\"<style>.container { width:100% !important; }</style>\")"
   ]
  },
  {
   "cell_type": "code",
   "execution_count": 41,
   "metadata": {
    "collapsed": false
   },
   "outputs": [],
   "source": [
    "sql_conn = sqlite3.connect('flask_app/data/analysed_data.sql')\n",
    "sql_cursor = sql_conn.cursor()"
   ]
  },
  {
   "cell_type": "code",
   "execution_count": 42,
   "metadata": {
    "collapsed": false
   },
   "outputs": [
    {
     "data": {
      "text/html": [
       "<div>\n",
       "<table border=\"1\" class=\"dataframe\">\n",
       "  <thead>\n",
       "    <tr style=\"text-align: right;\">\n",
       "      <th></th>\n",
       "      <th>ip_address</th>\n",
       "      <th>session_ID</th>\n",
       "      <th>time</th>\n",
       "      <th>user_ID</th>\n",
       "      <th>user_agent</th>\n",
       "      <th>window_height</th>\n",
       "      <th>window_width</th>\n",
       "    </tr>\n",
       "  </thead>\n",
       "  <tbody>\n",
       "    <tr>\n",
       "      <th>0</th>\n",
       "      <td>127.0.0.1</td>\n",
       "      <td>HUChCQjZu4ikoyUaD5d8XtsFl5/a5gOw</td>\n",
       "      <td>2016-08-31 12:18:18.914539</td>\n",
       "      <td>/60iePH1px+exAlkBpLnzjTYVEUPENso</td>\n",
       "      <td>Mozilla/5.0 (iPhone; CPU iPhone OS 9_1 like Ma...</td>\n",
       "      <td>667</td>\n",
       "      <td>375</td>\n",
       "    </tr>\n",
       "    <tr>\n",
       "      <th>1</th>\n",
       "      <td>127.0.0.1</td>\n",
       "      <td>fi5Kbp+53S+bSOR8wdlYgfu1nSxS+nzh</td>\n",
       "      <td>2016-08-31 14:44:57.808794</td>\n",
       "      <td>/60iePH1px+exAlkBpLnzjTYVEUPENso</td>\n",
       "      <td>Mozilla/5.0 (iPhone; CPU iPhone OS 9_1 like Ma...</td>\n",
       "      <td>667</td>\n",
       "      <td>375</td>\n",
       "    </tr>\n",
       "  </tbody>\n",
       "</table>\n",
       "</div>"
      ],
      "text/plain": [
       "  ip_address                        session_ID                        time  \\\n",
       "0  127.0.0.1  HUChCQjZu4ikoyUaD5d8XtsFl5/a5gOw  2016-08-31 12:18:18.914539   \n",
       "1  127.0.0.1  fi5Kbp+53S+bSOR8wdlYgfu1nSxS+nzh  2016-08-31 14:44:57.808794   \n",
       "\n",
       "                            user_ID  \\\n",
       "0  /60iePH1px+exAlkBpLnzjTYVEUPENso   \n",
       "1  /60iePH1px+exAlkBpLnzjTYVEUPENso   \n",
       "\n",
       "                                          user_agent window_height  \\\n",
       "0  Mozilla/5.0 (iPhone; CPU iPhone OS 9_1 like Ma...           667   \n",
       "1  Mozilla/5.0 (iPhone; CPU iPhone OS 9_1 like Ma...           667   \n",
       "\n",
       "  window_width  \n",
       "0          375  \n",
       "1          375  "
      ]
     },
     "execution_count": 42,
     "metadata": {},
     "output_type": "execute_result"
    }
   ],
   "source": [
    "sessions = pd.read_sql('SELECT * FROM sessions', sql_conn)\n",
    "sessions"
   ]
  },
  {
   "cell_type": "code",
   "execution_count": 43,
   "metadata": {
    "collapsed": false
   },
   "outputs": [
    {
     "data": {
      "text/html": [
       "<div>\n",
       "<table border=\"1\" class=\"dataframe\">\n",
       "  <thead>\n",
       "    <tr style=\"text-align: right;\">\n",
       "      <th></th>\n",
       "      <th>name_1</th>\n",
       "      <th>name_2</th>\n",
       "      <th>region</th>\n",
       "      <th>session_ID</th>\n",
       "      <th>sex</th>\n",
       "      <th>time</th>\n",
       "      <th>user_ID</th>\n",
       "    </tr>\n",
       "  </thead>\n",
       "  <tbody>\n",
       "    <tr>\n",
       "      <th>10</th>\n",
       "      <td>Jane</td>\n",
       "      <td></td>\n",
       "      <td>Brussel</td>\n",
       "      <td>M9TlgWSBJFRJCcsBpVfMHrv0QVEGhqVR</td>\n",
       "      <td>F</td>\n",
       "      <td>2016-08-31 12:02:19.808883</td>\n",
       "      <td>/60iePH1px+exAlkBpLnzjTYVEUPENso</td>\n",
       "    </tr>\n",
       "    <tr>\n",
       "      <th>11</th>\n",
       "      <td>Jane</td>\n",
       "      <td></td>\n",
       "      <td>Vlaanderen</td>\n",
       "      <td>M9TlgWSBJFRJCcsBpVfMHrv0QVEGhqVR</td>\n",
       "      <td>F</td>\n",
       "      <td>2016-08-31 12:02:24.720175</td>\n",
       "      <td>/60iePH1px+exAlkBpLnzjTYVEUPENso</td>\n",
       "    </tr>\n",
       "    <tr>\n",
       "      <th>12</th>\n",
       "      <td>Jane</td>\n",
       "      <td></td>\n",
       "      <td>Belgie</td>\n",
       "      <td>M9TlgWSBJFRJCcsBpVfMHrv0QVEGhqVR</td>\n",
       "      <td>F</td>\n",
       "      <td>2016-08-31 12:02:29.096497</td>\n",
       "      <td>/60iePH1px+exAlkBpLnzjTYVEUPENso</td>\n",
       "    </tr>\n",
       "    <tr>\n",
       "      <th>13</th>\n",
       "      <td>Jane</td>\n",
       "      <td>Carolina</td>\n",
       "      <td>Belgie</td>\n",
       "      <td>M9TlgWSBJFRJCcsBpVfMHrv0QVEGhqVR</td>\n",
       "      <td>F</td>\n",
       "      <td>2016-08-31 12:02:35.910031</td>\n",
       "      <td>/60iePH1px+exAlkBpLnzjTYVEUPENso</td>\n",
       "    </tr>\n",
       "    <tr>\n",
       "      <th>14</th>\n",
       "      <td>Jane</td>\n",
       "      <td>Sabrina</td>\n",
       "      <td>Belgie</td>\n",
       "      <td>M9TlgWSBJFRJCcsBpVfMHrv0QVEGhqVR</td>\n",
       "      <td>F</td>\n",
       "      <td>2016-08-31 12:02:46.022073</td>\n",
       "      <td>/60iePH1px+exAlkBpLnzjTYVEUPENso</td>\n",
       "    </tr>\n",
       "    <tr>\n",
       "      <th>15</th>\n",
       "      <td>Karel</td>\n",
       "      <td>Pieter</td>\n",
       "      <td>Belgie</td>\n",
       "      <td>HUChCQjZu4ikoyUaD5d8XtsFl5/a5gOw</td>\n",
       "      <td>M</td>\n",
       "      <td>2016-08-31 12:18:26.017067</td>\n",
       "      <td>/60iePH1px+exAlkBpLnzjTYVEUPENso</td>\n",
       "    </tr>\n",
       "    <tr>\n",
       "      <th>16</th>\n",
       "      <td>Geraldine</td>\n",
       "      <td></td>\n",
       "      <td>Belgie</td>\n",
       "      <td>fi5Kbp+53S+bSOR8wdlYgfu1nSxS+nzh</td>\n",
       "      <td>F</td>\n",
       "      <td>2016-08-31 14:45:06.823516</td>\n",
       "      <td>/60iePH1px+exAlkBpLnzjTYVEUPENso</td>\n",
       "    </tr>\n",
       "    <tr>\n",
       "      <th>17</th>\n",
       "      <td>Geraldine</td>\n",
       "      <td></td>\n",
       "      <td>Wallonie</td>\n",
       "      <td>fi5Kbp+53S+bSOR8wdlYgfu1nSxS+nzh</td>\n",
       "      <td>F</td>\n",
       "      <td>2016-08-31 14:45:28.586272</td>\n",
       "      <td>/60iePH1px+exAlkBpLnzjTYVEUPENso</td>\n",
       "    </tr>\n",
       "    <tr>\n",
       "      <th>18</th>\n",
       "      <td>Géraldine</td>\n",
       "      <td></td>\n",
       "      <td>Wallonie</td>\n",
       "      <td>fi5Kbp+53S+bSOR8wdlYgfu1nSxS+nzh</td>\n",
       "      <td>F</td>\n",
       "      <td>2016-08-31 14:45:39.644018</td>\n",
       "      <td>/60iePH1px+exAlkBpLnzjTYVEUPENso</td>\n",
       "    </tr>\n",
       "    <tr>\n",
       "      <th>19</th>\n",
       "      <td>Géraldine</td>\n",
       "      <td></td>\n",
       "      <td>Belgie</td>\n",
       "      <td>fi5Kbp+53S+bSOR8wdlYgfu1nSxS+nzh</td>\n",
       "      <td>F</td>\n",
       "      <td>2016-08-31 14:45:44.730337</td>\n",
       "      <td>/60iePH1px+exAlkBpLnzjTYVEUPENso</td>\n",
       "    </tr>\n",
       "  </tbody>\n",
       "</table>\n",
       "</div>"
      ],
      "text/plain": [
       "       name_1    name_2      region                        session_ID sex  \\\n",
       "10       Jane               Brussel  M9TlgWSBJFRJCcsBpVfMHrv0QVEGhqVR   F   \n",
       "11       Jane            Vlaanderen  M9TlgWSBJFRJCcsBpVfMHrv0QVEGhqVR   F   \n",
       "12       Jane                Belgie  M9TlgWSBJFRJCcsBpVfMHrv0QVEGhqVR   F   \n",
       "13       Jane  Carolina      Belgie  M9TlgWSBJFRJCcsBpVfMHrv0QVEGhqVR   F   \n",
       "14       Jane   Sabrina      Belgie  M9TlgWSBJFRJCcsBpVfMHrv0QVEGhqVR   F   \n",
       "15      Karel    Pieter      Belgie  HUChCQjZu4ikoyUaD5d8XtsFl5/a5gOw   M   \n",
       "16  Geraldine                Belgie  fi5Kbp+53S+bSOR8wdlYgfu1nSxS+nzh   F   \n",
       "17  Geraldine              Wallonie  fi5Kbp+53S+bSOR8wdlYgfu1nSxS+nzh   F   \n",
       "18  Géraldine              Wallonie  fi5Kbp+53S+bSOR8wdlYgfu1nSxS+nzh   F   \n",
       "19  Géraldine                Belgie  fi5Kbp+53S+bSOR8wdlYgfu1nSxS+nzh   F   \n",
       "\n",
       "                          time                           user_ID  \n",
       "10  2016-08-31 12:02:19.808883  /60iePH1px+exAlkBpLnzjTYVEUPENso  \n",
       "11  2016-08-31 12:02:24.720175  /60iePH1px+exAlkBpLnzjTYVEUPENso  \n",
       "12  2016-08-31 12:02:29.096497  /60iePH1px+exAlkBpLnzjTYVEUPENso  \n",
       "13  2016-08-31 12:02:35.910031  /60iePH1px+exAlkBpLnzjTYVEUPENso  \n",
       "14  2016-08-31 12:02:46.022073  /60iePH1px+exAlkBpLnzjTYVEUPENso  \n",
       "15  2016-08-31 12:18:26.017067  /60iePH1px+exAlkBpLnzjTYVEUPENso  \n",
       "16  2016-08-31 14:45:06.823516  /60iePH1px+exAlkBpLnzjTYVEUPENso  \n",
       "17  2016-08-31 14:45:28.586272  /60iePH1px+exAlkBpLnzjTYVEUPENso  \n",
       "18  2016-08-31 14:45:39.644018  /60iePH1px+exAlkBpLnzjTYVEUPENso  \n",
       "19  2016-08-31 14:45:44.730337  /60iePH1px+exAlkBpLnzjTYVEUPENso  "
      ]
     },
     "execution_count": 43,
     "metadata": {},
     "output_type": "execute_result"
    }
   ],
   "source": [
    "name_lookups = pd.read_sql('SELECT * FROM name_lookups', sql_conn)\n",
    "name_lookups.tail(10)"
   ]
  },
  {
   "cell_type": "code",
   "execution_count": 59,
   "metadata": {
    "collapsed": false
   },
   "outputs": [
    {
     "data": {
      "text/html": [
       "<div>\n",
       "<table border=\"1\" class=\"dataframe\">\n",
       "  <thead>\n",
       "    <tr style=\"text-align: right;\">\n",
       "      <th></th>\n",
       "      <th>feedback</th>\n",
       "      <th>name</th>\n",
       "      <th>session_ID</th>\n",
       "      <th>time</th>\n",
       "      <th>user_ID</th>\n",
       "      <th>sex</th>\n",
       "    </tr>\n",
       "  </thead>\n",
       "  <tbody>\n",
       "    <tr>\n",
       "      <th>240</th>\n",
       "      <td>no_like</td>\n",
       "      <td>Clarisse</td>\n",
       "      <td>x6NpUZUAagSGBA6MKnReceD4YwMrBctl</td>\n",
       "      <td>2016-09-03 20:29:23.867005</td>\n",
       "      <td>Y3oH5KYznsVQR0MN5l9qyMcH+t5wFgLI</td>\n",
       "      <td>F</td>\n",
       "    </tr>\n",
       "    <tr>\n",
       "      <th>241</th>\n",
       "      <td>no_like</td>\n",
       "      <td>Nina</td>\n",
       "      <td>x6NpUZUAagSGBA6MKnReceD4YwMrBctl</td>\n",
       "      <td>2016-09-03 20:29:34.153996</td>\n",
       "      <td>Y3oH5KYznsVQR0MN5l9qyMcH+t5wFgLI</td>\n",
       "      <td>F</td>\n",
       "    </tr>\n",
       "    <tr>\n",
       "      <th>242</th>\n",
       "      <td>no_like</td>\n",
       "      <td>Leticia</td>\n",
       "      <td>x6NpUZUAagSGBA6MKnReceD4YwMrBctl</td>\n",
       "      <td>2016-09-03 20:29:46.348439</td>\n",
       "      <td>Y3oH5KYznsVQR0MN5l9qyMcH+t5wFgLI</td>\n",
       "      <td>F</td>\n",
       "    </tr>\n",
       "    <tr>\n",
       "      <th>243</th>\n",
       "      <td>no_like</td>\n",
       "      <td>Meryem</td>\n",
       "      <td>x6NpUZUAagSGBA6MKnReceD4YwMrBctl</td>\n",
       "      <td>2016-09-03 20:29:55.222494</td>\n",
       "      <td>Y3oH5KYznsVQR0MN5l9qyMcH+t5wFgLI</td>\n",
       "      <td>F</td>\n",
       "    </tr>\n",
       "    <tr>\n",
       "      <th>244</th>\n",
       "      <td>no_like</td>\n",
       "      <td>Soumaya</td>\n",
       "      <td>x6NpUZUAagSGBA6MKnReceD4YwMrBctl</td>\n",
       "      <td>2016-09-03 20:30:06.873446</td>\n",
       "      <td>Y3oH5KYznsVQR0MN5l9qyMcH+t5wFgLI</td>\n",
       "      <td>F</td>\n",
       "    </tr>\n",
       "    <tr>\n",
       "      <th>245</th>\n",
       "      <td>no_like</td>\n",
       "      <td>Annabelle</td>\n",
       "      <td>x6NpUZUAagSGBA6MKnReceD4YwMrBctl</td>\n",
       "      <td>2016-09-03 20:30:15.229018</td>\n",
       "      <td>Y3oH5KYznsVQR0MN5l9qyMcH+t5wFgLI</td>\n",
       "      <td>F</td>\n",
       "    </tr>\n",
       "    <tr>\n",
       "      <th>246</th>\n",
       "      <td>no_like</td>\n",
       "      <td>Anisoara</td>\n",
       "      <td>x6NpUZUAagSGBA6MKnReceD4YwMrBctl</td>\n",
       "      <td>2016-09-03 20:30:28.180598</td>\n",
       "      <td>Y3oH5KYznsVQR0MN5l9qyMcH+t5wFgLI</td>\n",
       "      <td>F</td>\n",
       "    </tr>\n",
       "    <tr>\n",
       "      <th>247</th>\n",
       "      <td>no_like</td>\n",
       "      <td>Ophélie</td>\n",
       "      <td>x6NpUZUAagSGBA6MKnReceD4YwMrBctl</td>\n",
       "      <td>2016-09-03 20:30:43.590739</td>\n",
       "      <td>Y3oH5KYznsVQR0MN5l9qyMcH+t5wFgLI</td>\n",
       "      <td>F</td>\n",
       "    </tr>\n",
       "    <tr>\n",
       "      <th>248</th>\n",
       "      <td>no_like</td>\n",
       "      <td>Mariame</td>\n",
       "      <td>x6NpUZUAagSGBA6MKnReceD4YwMrBctl</td>\n",
       "      <td>2016-09-03 20:30:53.310945</td>\n",
       "      <td>Y3oH5KYznsVQR0MN5l9qyMcH+t5wFgLI</td>\n",
       "      <td>F</td>\n",
       "    </tr>\n",
       "    <tr>\n",
       "      <th>249</th>\n",
       "      <td>no_like</td>\n",
       "      <td>Thérèse</td>\n",
       "      <td>x6NpUZUAagSGBA6MKnReceD4YwMrBctl</td>\n",
       "      <td>2016-09-03 20:31:03.155792</td>\n",
       "      <td>Y3oH5KYznsVQR0MN5l9qyMcH+t5wFgLI</td>\n",
       "      <td>F</td>\n",
       "    </tr>\n",
       "  </tbody>\n",
       "</table>\n",
       "</div>"
      ],
      "text/plain": [
       "    feedback       name                        session_ID  \\\n",
       "240  no_like   Clarisse  x6NpUZUAagSGBA6MKnReceD4YwMrBctl   \n",
       "241  no_like       Nina  x6NpUZUAagSGBA6MKnReceD4YwMrBctl   \n",
       "242  no_like    Leticia  x6NpUZUAagSGBA6MKnReceD4YwMrBctl   \n",
       "243  no_like     Meryem  x6NpUZUAagSGBA6MKnReceD4YwMrBctl   \n",
       "244  no_like    Soumaya  x6NpUZUAagSGBA6MKnReceD4YwMrBctl   \n",
       "245  no_like  Annabelle  x6NpUZUAagSGBA6MKnReceD4YwMrBctl   \n",
       "246  no_like   Anisoara  x6NpUZUAagSGBA6MKnReceD4YwMrBctl   \n",
       "247  no_like    Ophélie  x6NpUZUAagSGBA6MKnReceD4YwMrBctl   \n",
       "248  no_like    Mariame  x6NpUZUAagSGBA6MKnReceD4YwMrBctl   \n",
       "249  no_like    Thérèse  x6NpUZUAagSGBA6MKnReceD4YwMrBctl   \n",
       "\n",
       "                           time                           user_ID sex  \n",
       "240  2016-09-03 20:29:23.867005  Y3oH5KYznsVQR0MN5l9qyMcH+t5wFgLI   F  \n",
       "241  2016-09-03 20:29:34.153996  Y3oH5KYznsVQR0MN5l9qyMcH+t5wFgLI   F  \n",
       "242  2016-09-03 20:29:46.348439  Y3oH5KYznsVQR0MN5l9qyMcH+t5wFgLI   F  \n",
       "243  2016-09-03 20:29:55.222494  Y3oH5KYznsVQR0MN5l9qyMcH+t5wFgLI   F  \n",
       "244  2016-09-03 20:30:06.873446  Y3oH5KYznsVQR0MN5l9qyMcH+t5wFgLI   F  \n",
       "245  2016-09-03 20:30:15.229018  Y3oH5KYznsVQR0MN5l9qyMcH+t5wFgLI   F  \n",
       "246  2016-09-03 20:30:28.180598  Y3oH5KYznsVQR0MN5l9qyMcH+t5wFgLI   F  \n",
       "247  2016-09-03 20:30:43.590739  Y3oH5KYznsVQR0MN5l9qyMcH+t5wFgLI   F  \n",
       "248  2016-09-03 20:30:53.310945  Y3oH5KYznsVQR0MN5l9qyMcH+t5wFgLI   F  \n",
       "249  2016-09-03 20:31:03.155792  Y3oH5KYznsVQR0MN5l9qyMcH+t5wFgLI   F  "
      ]
     },
     "execution_count": 59,
     "metadata": {},
     "output_type": "execute_result"
    }
   ],
   "source": [
    "feedback = pd.read_sql('SELECT * FROM feedback', sql_conn)\n",
    "feedback.tail(10)"
   ]
  },
  {
   "cell_type": "markdown",
   "metadata": {},
   "source": [
    "## Check Caroline haar feedback"
   ]
  },
  {
   "cell_type": "code",
   "execution_count": 62,
   "metadata": {
    "collapsed": false
   },
   "outputs": [
    {
     "name": "stdout",
     "output_type": "stream",
     "text": [
      "Lengte van de feedback: (250, 6) \n",
      "Value counts : no_like               215\n",
      "like                   31\n",
      "changed_to_no_like      4\n",
      "Name: feedback, dtype: int64\n"
     ]
    }
   ],
   "source": [
    "feedback_caro = feedback.loc[feedback['user_ID']=='Y3oH5KYznsVQR0MN5l9qyMcH+t5wFgLI',:]\n",
    "print('Lengte van de feedback: %s ' %str(feedback_caro.shape))\n",
    "print('Value counts : %s' %str(feedback_caro['feedback'].value_counts()))"
   ]
  },
  {
   "cell_type": "code",
   "execution_count": null,
   "metadata": {
    "collapsed": true
   },
   "outputs": [],
   "source": []
  }
 ],
 "metadata": {
  "anaconda-cloud": {},
  "kernelspec": {
   "display_name": "Python [Root]",
   "language": "python",
   "name": "Python [Root]"
  },
  "language_info": {
   "codemirror_mode": {
    "name": "ipython",
    "version": 3
   },
   "file_extension": ".py",
   "mimetype": "text/x-python",
   "name": "python",
   "nbconvert_exporter": "python",
   "pygments_lexer": "ipython3",
   "version": "3.5.2"
  }
 },
 "nbformat": 4,
 "nbformat_minor": 0
}
