{
 "cells": [
  {
   "cell_type": "code",
   "execution_count": 2,
   "metadata": {
    "collapsed": false
   },
   "outputs": [
    {
     "data": {
      "text/html": [
       "<style>.container { width:100% !important; }</style>"
      ],
      "text/plain": [
       "<IPython.core.display.HTML object>"
      ]
     },
     "execution_count": 2,
     "metadata": {},
     "output_type": "execute_result"
    }
   ],
   "source": [
    "import pandas as pd\n",
    "import numpy as np\n",
    "import matplotlib.pyplot as plt\n",
    "import re\n",
    "import sqlite3\n",
    "%matplotlib inline\n",
    "from IPython.core.display import HTML\n",
    "pd.options.display.max_columns = 50\n",
    "import seaborn as sb\n",
    "import datetime\n",
    "from sqlalchemy import create_engine\n",
    "import psycopg2\n",
    "HTML(\"<style>.container { width:100% !important; }</style>\")"
   ]
  },
  {
   "cell_type": "code",
   "execution_count": 3,
   "metadata": {
    "collapsed": false
   },
   "outputs": [],
   "source": [
    "#sql_conn_local = sqlite3.connect('flask_app/data/analysed_data.sql')\n",
    "#sql_cursor_local = sql_conn.cursor()\n",
    "conn = psycopg2.connect(\"dbname='grb_2016_03' host='forespellpostgis.cusejoju89w7.eu-west-1.rds.amazonaws.com' user='kasper' password='VosseM08'\")\n",
    "cur = conn.cursor()\n",
    "engine_AWS = create_engine('postgresql://%s:%s@forespellpostgis.cusejoju89w7.eu-west-1.rds.amazonaws.com:5432/grb_2016_03' %('kasper', 'VosseM08'))"
   ]
  },
  {
   "cell_type": "code",
   "execution_count": 27,
   "metadata": {
    "collapsed": false
   },
   "outputs": [
    {
     "data": {
      "text/html": [
       "<div>\n",
       "<table border=\"1\" class=\"dataframe\">\n",
       "  <thead>\n",
       "    <tr style=\"text-align: right;\">\n",
       "      <th></th>\n",
       "      <th>feedback</th>\n",
       "      <th>name</th>\n",
       "      <th>session_id</th>\n",
       "      <th>time</th>\n",
       "      <th>user_id</th>\n",
       "      <th>sex</th>\n",
       "      <th>rank</th>\n",
       "    </tr>\n",
       "  </thead>\n",
       "  <tbody>\n",
       "    <tr>\n",
       "      <th>0</th>\n",
       "      <td>no_like</td>\n",
       "      <td>Charlien</td>\n",
       "      <td>O1+UDVItalp5Bbj2I4YXPOFIQo3bg7oW</td>\n",
       "      <td>2016-09-28 20:26:40.927725</td>\n",
       "      <td>LyS8jqGkQaWTGm9lMrkcoffOjOH5lb7P</td>\n",
       "      <td>F</td>\n",
       "      <td>NaN</td>\n",
       "    </tr>\n",
       "    <tr>\n",
       "      <th>1</th>\n",
       "      <td>like</td>\n",
       "      <td>Cleo</td>\n",
       "      <td>gE6plbU54qjo/sqinvt/Xhs6rQxLqafF</td>\n",
       "      <td>2016-09-28 08:49:34.833191</td>\n",
       "      <td>LyS8jqGkQaWTGm9lMrkcoffOjOH5lb7P</td>\n",
       "      <td>F</td>\n",
       "      <td>1.0</td>\n",
       "    </tr>\n",
       "    <tr>\n",
       "      <th>2</th>\n",
       "      <td>no_like</td>\n",
       "      <td>Marion</td>\n",
       "      <td>aWy20Aii1BbwdMMqpCJ44m9D9Y9q8rsz</td>\n",
       "      <td>2016-09-28 20:28:51.022527</td>\n",
       "      <td>LyS8jqGkQaWTGm9lMrkcoffOjOH5lb7P</td>\n",
       "      <td>F</td>\n",
       "      <td>NaN</td>\n",
       "    </tr>\n",
       "    <tr>\n",
       "      <th>3</th>\n",
       "      <td>no_like</td>\n",
       "      <td>Yigit</td>\n",
       "      <td>ldqbaYN+JusTdCHBltQEKYiENU+2mEd3</td>\n",
       "      <td>2016-09-28 19:02:07.342758</td>\n",
       "      <td>O9e3mfef//f5dAiR2sqtxTY0QDybY4Gi</td>\n",
       "      <td>M</td>\n",
       "      <td>NaN</td>\n",
       "    </tr>\n",
       "    <tr>\n",
       "      <th>4</th>\n",
       "      <td>no_like</td>\n",
       "      <td>Timo</td>\n",
       "      <td>ldqbaYN+JusTdCHBltQEKYiENU+2mEd3</td>\n",
       "      <td>2016-09-28 19:02:10.330723</td>\n",
       "      <td>O9e3mfef//f5dAiR2sqtxTY0QDybY4Gi</td>\n",
       "      <td>M</td>\n",
       "      <td>NaN</td>\n",
       "    </tr>\n",
       "    <tr>\n",
       "      <th>5</th>\n",
       "      <td>no_like</td>\n",
       "      <td>Jacques</td>\n",
       "      <td>ldqbaYN+JusTdCHBltQEKYiENU+2mEd3</td>\n",
       "      <td>2016-09-28 19:02:10.922935</td>\n",
       "      <td>O9e3mfef//f5dAiR2sqtxTY0QDybY4Gi</td>\n",
       "      <td>M</td>\n",
       "      <td>NaN</td>\n",
       "    </tr>\n",
       "    <tr>\n",
       "      <th>6</th>\n",
       "      <td>like</td>\n",
       "      <td>Floris</td>\n",
       "      <td>3ckDw0fIezjXUqx62utv2f1gQt0tAPmU</td>\n",
       "      <td>2016-09-28 08:46:53.124234</td>\n",
       "      <td>LyS8jqGkQaWTGm9lMrkcoffOjOH5lb7P</td>\n",
       "      <td>M</td>\n",
       "      <td>2.0</td>\n",
       "    </tr>\n",
       "    <tr>\n",
       "      <th>7</th>\n",
       "      <td>like</td>\n",
       "      <td>Ensar</td>\n",
       "      <td>3ckDw0fIezjXUqx62utv2f1gQt0tAPmU</td>\n",
       "      <td>2016-09-28 08:46:44.988279</td>\n",
       "      <td>LyS8jqGkQaWTGm9lMrkcoffOjOH5lb7P</td>\n",
       "      <td>M</td>\n",
       "      <td>1.0</td>\n",
       "    </tr>\n",
       "    <tr>\n",
       "      <th>8</th>\n",
       "      <td>no_like</td>\n",
       "      <td>Karel</td>\n",
       "      <td>r252KYxBfQ35Kxz4sp/3rZA7ucgweioa</td>\n",
       "      <td>2016-09-28 18:57:51.366937</td>\n",
       "      <td>mTJqurZXfXDvatYTzo969AUzJ1CTdiGz</td>\n",
       "      <td>F</td>\n",
       "      <td>NaN</td>\n",
       "    </tr>\n",
       "    <tr>\n",
       "      <th>9</th>\n",
       "      <td>like</td>\n",
       "      <td>Caroline</td>\n",
       "      <td>r252KYxBfQ35Kxz4sp/3rZA7ucgweioa</td>\n",
       "      <td>2016-09-28 18:57:56.274951</td>\n",
       "      <td>mTJqurZXfXDvatYTzo969AUzJ1CTdiGz</td>\n",
       "      <td>F</td>\n",
       "      <td>NaN</td>\n",
       "    </tr>\n",
       "  </tbody>\n",
       "</table>\n",
       "</div>"
      ],
      "text/plain": [
       "  feedback      name                        session_id  \\\n",
       "0  no_like  Charlien  O1+UDVItalp5Bbj2I4YXPOFIQo3bg7oW   \n",
       "1     like      Cleo  gE6plbU54qjo/sqinvt/Xhs6rQxLqafF   \n",
       "2  no_like    Marion  aWy20Aii1BbwdMMqpCJ44m9D9Y9q8rsz   \n",
       "3  no_like     Yigit  ldqbaYN+JusTdCHBltQEKYiENU+2mEd3   \n",
       "4  no_like      Timo  ldqbaYN+JusTdCHBltQEKYiENU+2mEd3   \n",
       "5  no_like   Jacques  ldqbaYN+JusTdCHBltQEKYiENU+2mEd3   \n",
       "6     like    Floris  3ckDw0fIezjXUqx62utv2f1gQt0tAPmU   \n",
       "7     like     Ensar  3ckDw0fIezjXUqx62utv2f1gQt0tAPmU   \n",
       "8  no_like     Karel  r252KYxBfQ35Kxz4sp/3rZA7ucgweioa   \n",
       "9     like  Caroline  r252KYxBfQ35Kxz4sp/3rZA7ucgweioa   \n",
       "\n",
       "                         time                           user_id sex  rank  \n",
       "0  2016-09-28 20:26:40.927725  LyS8jqGkQaWTGm9lMrkcoffOjOH5lb7P   F   NaN  \n",
       "1  2016-09-28 08:49:34.833191  LyS8jqGkQaWTGm9lMrkcoffOjOH5lb7P   F   1.0  \n",
       "2  2016-09-28 20:28:51.022527  LyS8jqGkQaWTGm9lMrkcoffOjOH5lb7P   F   NaN  \n",
       "3  2016-09-28 19:02:07.342758  O9e3mfef//f5dAiR2sqtxTY0QDybY4Gi   M   NaN  \n",
       "4  2016-09-28 19:02:10.330723  O9e3mfef//f5dAiR2sqtxTY0QDybY4Gi   M   NaN  \n",
       "5  2016-09-28 19:02:10.922935  O9e3mfef//f5dAiR2sqtxTY0QDybY4Gi   M   NaN  \n",
       "6  2016-09-28 08:46:53.124234  LyS8jqGkQaWTGm9lMrkcoffOjOH5lb7P   M   2.0  \n",
       "7  2016-09-28 08:46:44.988279  LyS8jqGkQaWTGm9lMrkcoffOjOH5lb7P   M   1.0  \n",
       "8  2016-09-28 18:57:51.366937  mTJqurZXfXDvatYTzo969AUzJ1CTdiGz   F   NaN  \n",
       "9  2016-09-28 18:57:56.274951  mTJqurZXfXDvatYTzo969AUzJ1CTdiGz   F   NaN  "
      ]
     },
     "execution_count": 27,
     "metadata": {},
     "output_type": "execute_result"
    }
   ],
   "source": [
    "pd.read_sql('''SELECT * FROM namabayi.feedback LIMIT 10''', engine_AWS)"
   ]
  },
  {
   "cell_type": "markdown",
   "metadata": {},
   "source": [
    "## Create a new table"
   ]
  },
  {
   "cell_type": "code",
   "execution_count": 36,
   "metadata": {
    "collapsed": true
   },
   "outputs": [],
   "source": [
    "dict_to_store = {'best_feature':'origin_vl', 'user_id': 'LyS8jqGkQaWTGm9lMrkcoffOjOH5lb7P', \n",
    "                 'requested_sex':'M', \n",
    "            'value_left_child':4, 'value_right_child':5,\n",
    "                'treshold' : 6, 'len_training_data':9}"
   ]
  },
  {
   "cell_type": "code",
   "execution_count": 37,
   "metadata": {
    "collapsed": false
   },
   "outputs": [],
   "source": [
    "tryout = pd.DataFrame([dict_to_store])\n",
    "tryout.to_sql(name = 'decision_trees', schema = 'namabayi', con = engine_AWS, index=False, if_exists='replace')"
   ]
  },
  {
   "cell_type": "code",
   "execution_count": 4,
   "metadata": {
    "collapsed": false
   },
   "outputs": [],
   "source": [
    "# Give namabayi user again all the privilages\n",
    "try:\n",
    "    #cur.execute('''REVOKE CONNECT ON DATABASE grb_2016_03 FROM PUBLIC;''')\n",
    "    #cur.execute('''GRANT CONNECT ON DATABASE grb_2016_03  TO namabayi_dev;''')\n",
    "\n",
    "    cur.execute('''GRANT USAGE\n",
    "                        ON SCHEMA namabayi\n",
    "                        TO namabayi_dev; '''.replace('\\n', ''))\n",
    "    cur.execute('''GRANT ALL\n",
    "                        ON ALL TABLES IN SCHEMA namabayi TO namabayi_dev ;'''.replace('\\n', ''))    \n",
    "    conn.commit()\n",
    "except Exception as e:\n",
    "    print(e)\n",
    "    conn.rollback()"
   ]
  },
  {
   "cell_type": "markdown",
   "metadata": {},
   "source": [
    "## Verify indexes on tables"
   ]
  },
  {
   "cell_type": "code",
   "execution_count": 39,
   "metadata": {
    "collapsed": true
   },
   "outputs": [],
   "source": [
    "query = '''select\n",
    "    t.relname as table_name,\n",
    "    i.relname as index_name,\n",
    "    a.attname as column_name\n",
    "from\n",
    "    pg_class t,\n",
    "    pg_class i,\n",
    "    pg_index ix,\n",
    "    pg_attribute a\n",
    "where\n",
    "    t.oid = ix.indrelid\n",
    "    and i.oid = ix.indexrelid\n",
    "    and a.attrelid = t.oid\n",
    "    and a.attnum = ANY(ix.indkey)\n",
    "    and t.relkind = 'r'\n",
    "    and t.relname like %(table_name)s\n",
    "order by\n",
    "    t.relname,\n",
    "    i.relname;'''"
   ]
  },
  {
   "cell_type": "code",
   "execution_count": 65,
   "metadata": {
    "collapsed": false
   },
   "outputs": [
    {
     "data": {
      "text/html": [
       "<div>\n",
       "<table border=\"1\" class=\"dataframe\">\n",
       "  <thead>\n",
       "    <tr style=\"text-align: right;\">\n",
       "      <th></th>\n",
       "      <th>table_name</th>\n",
       "      <th>index_name</th>\n",
       "      <th>column_name</th>\n",
       "    </tr>\n",
       "  </thead>\n",
       "  <tbody>\n",
       "    <tr>\n",
       "      <th>0</th>\n",
       "      <td>name_lookups</td>\n",
       "      <td>name_lookups_name_1_idx</td>\n",
       "      <td>name_1</td>\n",
       "    </tr>\n",
       "    <tr>\n",
       "      <th>1</th>\n",
       "      <td>name_lookups</td>\n",
       "      <td>name_lookups_name_2_idx</td>\n",
       "      <td>name_2</td>\n",
       "    </tr>\n",
       "    <tr>\n",
       "      <th>2</th>\n",
       "      <td>name_lookups</td>\n",
       "      <td>name_lookups_region_idx</td>\n",
       "      <td>region</td>\n",
       "    </tr>\n",
       "    <tr>\n",
       "      <th>3</th>\n",
       "      <td>name_lookups</td>\n",
       "      <td>name_lookups_user_id_idx</td>\n",
       "      <td>user_id</td>\n",
       "    </tr>\n",
       "  </tbody>\n",
       "</table>\n",
       "</div>"
      ],
      "text/plain": [
       "     table_name                index_name column_name\n",
       "0  name_lookups   name_lookups_name_1_idx      name_1\n",
       "1  name_lookups   name_lookups_name_2_idx      name_2\n",
       "2  name_lookups   name_lookups_region_idx      region\n",
       "3  name_lookups  name_lookups_user_id_idx     user_id"
      ]
     },
     "execution_count": 65,
     "metadata": {},
     "output_type": "execute_result"
    }
   ],
   "source": [
    "pd.read_sql(query, engine_AWS, params = {'table_name':'name_lookups'})"
   ]
  },
  {
   "cell_type": "code",
   "execution_count": 64,
   "metadata": {
    "collapsed": false
   },
   "outputs": [],
   "source": [
    "try:\n",
    "    cur.execute('''CREATE INDEX ON namabayi.name_lookups (name_1) ''')   \n",
    "    cur.execute('''CREATE INDEX ON namabayi.name_lookups (name_2) ''')   \n",
    "    cur.execute('''CREATE INDEX ON namabayi.name_lookups (region) ''')   \n",
    "    cur.execute('''CREATE INDEX ON namabayi.name_lookups (user_id) ''')   \n",
    "    conn.commit()\n",
    "except Exception as e:\n",
    "    print(e)\n",
    "    conn.rollback()"
   ]
  },
  {
   "cell_type": "markdown",
   "metadata": {},
   "source": [
    "## Trial and error code"
   ]
  },
  {
   "cell_type": "code",
   "execution_count": 18,
   "metadata": {
    "collapsed": false
   },
   "outputs": [],
   "source": [
    "suggestion = ['Karel', 'Sander', 'Kasper']\n",
    "requested_sex = 'M'\n",
    "user_ID = 'LyS8jqGkQaWTGm9lMrkcoffOjOH5lb7P'\n",
    "session_ID = 'O1+UDVItalp5Bbj2I4YXPOFIQo3bg7oW'\n",
    "to_store = pd.DataFrame({'name':suggestion, 'user_id':np.repeat(user_ID, len(suggestion)), 'session_id':np.repeat(session_ID, len(suggestion)),\n",
    "             'requested_sex':np.repeat(requested_sex, len(suggestion))})\n",
    "to_store.to_sql(name = 'awaiting_feedback', schema = 'namabayi', index=False, if_exists = 'append', con = engine_AWS)"
   ]
  },
  {
   "cell_type": "code",
   "execution_count": 63,
   "metadata": {
    "collapsed": false
   },
   "outputs": [
    {
     "data": {
      "text/html": [
       "<div>\n",
       "<table border=\"1\" class=\"dataframe\">\n",
       "  <thead>\n",
       "    <tr style=\"text-align: right;\">\n",
       "      <th></th>\n",
       "      <th>name_1</th>\n",
       "      <th>name_2</th>\n",
       "      <th>region</th>\n",
       "      <th>session_id</th>\n",
       "      <th>sex_name_1</th>\n",
       "      <th>sex_name_2</th>\n",
       "      <th>time</th>\n",
       "      <th>user_id</th>\n",
       "      <th>from_landing_page</th>\n",
       "    </tr>\n",
       "  </thead>\n",
       "  <tbody>\n",
       "    <tr>\n",
       "      <th>0</th>\n",
       "      <td>Caroline</td>\n",
       "      <td></td>\n",
       "      <td>Belgie</td>\n",
       "      <td>c3WgKBWpbYWGfJyutOflae77822n2ACG</td>\n",
       "      <td>F</td>\n",
       "      <td>F</td>\n",
       "      <td>2016-09-17 20:17:20.899349</td>\n",
       "      <td>wbwCqGiw9/OnompOE6L6vCpIC93t53+U</td>\n",
       "      <td>False</td>\n",
       "    </tr>\n",
       "    <tr>\n",
       "      <th>1</th>\n",
       "      <td></td>\n",
       "      <td></td>\n",
       "      <td>Belgie</td>\n",
       "      <td>pprYNQidMNQt69aSzm2G6CQK/KIbUVg+</td>\n",
       "      <td>F</td>\n",
       "      <td>F</td>\n",
       "      <td>2016-09-17 20:19:28.923617</td>\n",
       "      <td>wbwCqGiw9/OnompOE6L6vCpIC93t53+U</td>\n",
       "      <td>False</td>\n",
       "    </tr>\n",
       "    <tr>\n",
       "      <th>2</th>\n",
       "      <td>Caroline</td>\n",
       "      <td>Karel</td>\n",
       "      <td>Belgie</td>\n",
       "      <td>pprYNQidMNQt69aSzm2G6CQK/KIbUVg+</td>\n",
       "      <td>F</td>\n",
       "      <td>F</td>\n",
       "      <td>2016-09-17 20:19:44.252927</td>\n",
       "      <td>wbwCqGiw9/OnompOE6L6vCpIC93t53+U</td>\n",
       "      <td>False</td>\n",
       "    </tr>\n",
       "    <tr>\n",
       "      <th>3</th>\n",
       "      <td>Caroline</td>\n",
       "      <td>Karel</td>\n",
       "      <td>Belgie</td>\n",
       "      <td>pprYNQidMNQt69aSzm2G6CQK/KIbUVg+</td>\n",
       "      <td>F</td>\n",
       "      <td>M</td>\n",
       "      <td>2016-09-17 20:19:49.808099</td>\n",
       "      <td>wbwCqGiw9/OnompOE6L6vCpIC93t53+U</td>\n",
       "      <td>False</td>\n",
       "    </tr>\n",
       "    <tr>\n",
       "      <th>4</th>\n",
       "      <td>Karel</td>\n",
       "      <td>Caroline</td>\n",
       "      <td>Belgie</td>\n",
       "      <td>ttCDD+WANqAHGuhwlRURWYX+mvEz0Afk</td>\n",
       "      <td>M</td>\n",
       "      <td>F</td>\n",
       "      <td>2016-09-18 17:08:17.346258</td>\n",
       "      <td>3gG4j0QstaS/DoYZfBTQMlCOfcoo7/0G</td>\n",
       "      <td>False</td>\n",
       "    </tr>\n",
       "  </tbody>\n",
       "</table>\n",
       "</div>"
      ],
      "text/plain": [
       "     name_1    name_2  region                        session_id sex_name_1  \\\n",
       "0  Caroline            Belgie  c3WgKBWpbYWGfJyutOflae77822n2ACG          F   \n",
       "1                      Belgie  pprYNQidMNQt69aSzm2G6CQK/KIbUVg+          F   \n",
       "2  Caroline     Karel  Belgie  pprYNQidMNQt69aSzm2G6CQK/KIbUVg+          F   \n",
       "3  Caroline     Karel  Belgie  pprYNQidMNQt69aSzm2G6CQK/KIbUVg+          F   \n",
       "4     Karel  Caroline  Belgie  ttCDD+WANqAHGuhwlRURWYX+mvEz0Afk          M   \n",
       "\n",
       "  sex_name_2                        time                           user_id  \\\n",
       "0          F  2016-09-17 20:17:20.899349  wbwCqGiw9/OnompOE6L6vCpIC93t53+U   \n",
       "1          F  2016-09-17 20:19:28.923617  wbwCqGiw9/OnompOE6L6vCpIC93t53+U   \n",
       "2          F  2016-09-17 20:19:44.252927  wbwCqGiw9/OnompOE6L6vCpIC93t53+U   \n",
       "3          M  2016-09-17 20:19:49.808099  wbwCqGiw9/OnompOE6L6vCpIC93t53+U   \n",
       "4          F  2016-09-18 17:08:17.346258  3gG4j0QstaS/DoYZfBTQMlCOfcoo7/0G   \n",
       "\n",
       "  from_landing_page  \n",
       "0             False  \n",
       "1             False  \n",
       "2             False  \n",
       "3             False  \n",
       "4             False  "
      ]
     },
     "execution_count": 63,
     "metadata": {},
     "output_type": "execute_result"
    }
   ],
   "source": [
    "tryout = pd.read_sql('''SELECT * FROM namabayi.name_lookups LIMIT 10''', engine_AWS)\n",
    "tryout.head()"
   ]
  },
  {
   "cell_type": "code",
   "execution_count": 63,
   "metadata": {
    "collapsed": true
   },
   "outputs": [],
   "source": [
    "engine = create_engine('postgresql://%s:%s@forespellpostgis.cusejoju89w7.eu-west-1.rds.amazonaws.com:5432/grb_2016_03' %('namabayi_dev', 'namabayi_dev_40'))\n",
    "conn = psycopg2.connect(\"dbname='grb_2016_03' host='forespellpostgis.cusejoju89w7.eu-west-1.rds.amazonaws.com' user='namabayi_dev' password='namabayi_dev_40'\")\n",
    "cur = conn.cursor()"
   ]
  },
  {
   "cell_type": "code",
   "execution_count": 20,
   "metadata": {
    "collapsed": false
   },
   "outputs": [],
   "source": [
    "#name_info = pd.read_sql('''SELECT * FROM voornamen_pivot WHERE region = 'Vlaanderen' AND sex = 'M'  LIMIT 10''', con=engine)\n",
    "name_info = pd.read_sql('''SELECT name, minus18 FROM voornamen_pivot WHERE region = 'Vlaanderen' AND sex = 'M' ''', con=engine)"
   ]
  },
  {
   "cell_type": "code",
   "execution_count": 55,
   "metadata": {
    "collapsed": false
   },
   "outputs": [
    {
     "data": {
      "text/html": [
       "<div>\n",
       "<table border=\"1\" class=\"dataframe\">\n",
       "  <thead>\n",
       "    <tr style=\"text-align: right;\">\n",
       "      <th></th>\n",
       "      <th>ip_address</th>\n",
       "      <th>session_ID</th>\n",
       "      <th>time</th>\n",
       "      <th>user_ID</th>\n",
       "      <th>user_agent</th>\n",
       "      <th>window_height</th>\n",
       "      <th>window_width</th>\n",
       "    </tr>\n",
       "  </thead>\n",
       "  <tbody>\n",
       "    <tr>\n",
       "      <th>2004</th>\n",
       "      <td>127.0.0.1</td>\n",
       "      <td>IwqnoDMNXDyGhUWX0KWy48eXKzfXKGDZ</td>\n",
       "      <td>2016-10-30 16:17:28.175706</td>\n",
       "      <td>+jMtz1zS2ES3/FYTLab2UuLR7aQ9xlEw</td>\n",
       "      <td>Mozilla/5.0 (iPhone; CPU iPhone OS 9_1 like Ma...</td>\n",
       "      <td>568</td>\n",
       "      <td>320</td>\n",
       "    </tr>\n",
       "  </tbody>\n",
       "</table>\n",
       "</div>"
      ],
      "text/plain": [
       "     ip_address                        session_ID                        time  \\\n",
       "2004  127.0.0.1  IwqnoDMNXDyGhUWX0KWy48eXKzfXKGDZ  2016-10-30 16:17:28.175706   \n",
       "\n",
       "                               user_ID  \\\n",
       "2004  +jMtz1zS2ES3/FYTLab2UuLR7aQ9xlEw   \n",
       "\n",
       "                                             user_agent window_height  \\\n",
       "2004  Mozilla/5.0 (iPhone; CPU iPhone OS 9_1 like Ma...           568   \n",
       "\n",
       "     window_width  \n",
       "2004          320  "
      ]
     },
     "execution_count": 55,
     "metadata": {},
     "output_type": "execute_result"
    }
   ],
   "source": [
    "sessions = pd.read_sql('''SELECT * FROM sessions''', con=engine)\n",
    "sessions.tail(1)"
   ]
  },
  {
   "cell_type": "code",
   "execution_count": 91,
   "metadata": {
    "collapsed": false
   },
   "outputs": [
    {
     "data": {
      "text/html": [
       "<div>\n",
       "<table border=\"1\" class=\"dataframe\">\n",
       "  <thead>\n",
       "    <tr style=\"text-align: right;\">\n",
       "      <th></th>\n",
       "      <th>email</th>\n",
       "      <th>password</th>\n",
       "      <th>registration_time</th>\n",
       "      <th>repeat_password</th>\n",
       "      <th>session_id</th>\n",
       "      <th>user_id</th>\n",
       "    </tr>\n",
       "  </thead>\n",
       "  <tbody>\n",
       "    <tr>\n",
       "      <th>0</th>\n",
       "      <td>kasper.vanlombeek@gmail.com</td>\n",
       "      <td>pbkdf2:sha1:1000$Wyn71TU8$4b18e5fd9009a64a31f1...</td>\n",
       "      <td>2016-10-30 16:34:22.398307</td>\n",
       "      <td>pbkdf2:sha1:1000$od19ZZ5n$79b108fcd277a0db9040...</td>\n",
       "      <td>ONThR2UgJ11aJ3XtswH7W1mOyme1ZLAv</td>\n",
       "      <td>+jMtz1zS2ES3/FYTLab2UuLR7aQ9xlEw</td>\n",
       "    </tr>\n",
       "    <tr>\n",
       "      <th>1</th>\n",
       "      <td>kasper.vanlombeek@gmail.com</td>\n",
       "      <td>pbkdf2:sha1:1000$aWtGdBDn$8755722d67632dc976b0...</td>\n",
       "      <td>2016-10-30 16:34:56.247596</td>\n",
       "      <td>pbkdf2:sha1:1000$1lOm6auM$9cbe95493e45288ea211...</td>\n",
       "      <td>BxxjuR5+15m8/2WBri2XoiBVqAUWzjP8</td>\n",
       "      <td>+jMtz1zS2ES3/FYTLab2UuLR7aQ9xlEw</td>\n",
       "    </tr>\n",
       "    <tr>\n",
       "      <th>2</th>\n",
       "      <td>koen@gmail.com</td>\n",
       "      <td>pbkdf2:sha1:1000$lZylYOh0$b8dafca97d70ca6eb64f...</td>\n",
       "      <td>2016-10-30 16:44:28.464317</td>\n",
       "      <td>pbkdf2:sha1:1000$kAiAXu0r$4cf5b0b58e467a2b4226...</td>\n",
       "      <td>m+ZF6w+DL8PSoM4N2gBIpMxePBkOdbdC</td>\n",
       "      <td>+jMtz1zS2ES3/FYTLab2UuLR7aQ9xlEw</td>\n",
       "    </tr>\n",
       "    <tr>\n",
       "      <th>3</th>\n",
       "      <td>karel@gmail.com</td>\n",
       "      <td>pbkdf2:sha1:1000$uvCgmu9P$f5f064a056ed758f1c67...</td>\n",
       "      <td>2016-10-30 16:58:31.482368</td>\n",
       "      <td>pbkdf2:sha1:1000$xpETNte7$f447cfb7fcf873618e5a...</td>\n",
       "      <td>6ISLVAlqofMRRH/g8kH7LPtE8Er9P2zA</td>\n",
       "      <td>+jMtz1zS2ES3/FYTLab2UuLR7aQ9xlEw</td>\n",
       "    </tr>\n",
       "    <tr>\n",
       "      <th>4</th>\n",
       "      <td>louis@gmail.com</td>\n",
       "      <td>pbkdf2:sha1:1000$uu7LY5HI$c885b92a94e5a50a608b...</td>\n",
       "      <td>2016-10-30 17:11:58.455755</td>\n",
       "      <td>pbkdf2:sha1:1000$djhpb0nF$b0d4783664efb482bf68...</td>\n",
       "      <td>qvFPPjySXsAJoiyqPpSj/K9y0Q/f2sUu</td>\n",
       "      <td>+jMtz1zS2ES3/FYTLab2UuLR7aQ9xlEw</td>\n",
       "    </tr>\n",
       "    <tr>\n",
       "      <th>5</th>\n",
       "      <td>huguette@gmail.com</td>\n",
       "      <td>pbkdf2:sha1:1000$GyfpfJ6z$90c6880984f9454e8dfe...</td>\n",
       "      <td>2016-10-30 17:15:15.759667</td>\n",
       "      <td>pbkdf2:sha1:1000$v8OmfeUX$768173cacca5902d3e26...</td>\n",
       "      <td>+YKilKF3sF0DybkcLVHUnz+rkLpjjGSV</td>\n",
       "      <td>+jMtz1zS2ES3/FYTLab2UuLR7aQ9xlEw</td>\n",
       "    </tr>\n",
       "    <tr>\n",
       "      <th>6</th>\n",
       "      <td>sander@gmail.com</td>\n",
       "      <td>pbkdf2:sha1:1000$tUUTOTQ3$bd27b5a899611ccdfadc...</td>\n",
       "      <td>2016-10-30 17:38:26.510013</td>\n",
       "      <td>pbkdf2:sha1:1000$TtrYuCtb$e7ec614ec73ca7e9e970...</td>\n",
       "      <td>YMxDhXfoRFqSEZKNNwjLU8plMvqpmekF</td>\n",
       "      <td>+jMtz1zS2ES3/FYTLab2UuLR7aQ9xlEw</td>\n",
       "    </tr>\n",
       "    <tr>\n",
       "      <th>7</th>\n",
       "      <td>Kasper.vanlombeek@gmail.com</td>\n",
       "      <td>pbkdf2:sha1:1000$W9yPJiud$70c8c1574b50b96fc64b...</td>\n",
       "      <td>2016-10-30 17:28:58.997696</td>\n",
       "      <td>pbkdf2:sha1:1000$bRndO1Ty$413ed1d3683e3631606c...</td>\n",
       "      <td>r0N+vn719d9kVNnxcV46VEDuvOR2bOV4</td>\n",
       "      <td>5JVW0Me1JjkXvaTM7+0MB6V4NCjHK3Rn</td>\n",
       "    </tr>\n",
       "    <tr>\n",
       "      <th>8</th>\n",
       "      <td>Kasper.vanlombeek2@gmail.com</td>\n",
       "      <td>pbkdf2:sha1:1000$mtXtul3M$6267a1e9559ed7fd7064...</td>\n",
       "      <td>2016-10-30 17:29:33.784859</td>\n",
       "      <td>pbkdf2:sha1:1000$VoHkazjT$ffc5cf0524cfd41f7c10...</td>\n",
       "      <td>r0N+vn719d9kVNnxcV46VEDuvOR2bOV4</td>\n",
       "      <td>5JVW0Me1JjkXvaTM7+0MB6V4NCjHK3Rn</td>\n",
       "    </tr>\n",
       "    <tr>\n",
       "      <th>9</th>\n",
       "      <td>caroline@gmail.com</td>\n",
       "      <td>pbkdf2:sha1:1000$ls8Kfpzw$5c6079251544863b8c5c...</td>\n",
       "      <td>2016-10-30 17:32:28.751487</td>\n",
       "      <td>pbkdf2:sha1:1000$L8q5dCbu$88663adfdbf4ddb767b3...</td>\n",
       "      <td>cMf05P1CNI2Qza9BgbS9Z/QT2mYPrrkO</td>\n",
       "      <td>jVd2lPoEEP+psxLoqN434N6GzDPwdR7O</td>\n",
       "    </tr>\n",
       "    <tr>\n",
       "      <th>10</th>\n",
       "      <td>pieter@gmail.com</td>\n",
       "      <td>pbkdf2:sha1:1000$GR3tBsFt$265c7d431ec8d03ab9fa...</td>\n",
       "      <td>2016-10-30 18:54:52.577470</td>\n",
       "      <td>pbkdf2:sha1:1000$FWxFLXuu$6cbd940bb6642b9b35cb...</td>\n",
       "      <td>1FdoiE5CkhXpASZPAdqEz3J67wN7wn3l</td>\n",
       "      <td>+jMtz1zS2ES3/FYTLab2UuLR7aQ9xlEw</td>\n",
       "    </tr>\n",
       "    <tr>\n",
       "      <th>11</th>\n",
       "      <td>pieterc@gmail.com</td>\n",
       "      <td>pbkdf2:sha1:1000$PJr7PegJ$a2e3aaa754d76baa6f98...</td>\n",
       "      <td>2016-10-30 18:55:35.720033</td>\n",
       "      <td>pbkdf2:sha1:1000$Eu4oxGtU$0ddd446215624a48783e...</td>\n",
       "      <td>9hxst+elm2LQWhNUGqVBSzmOuqa3GPHz</td>\n",
       "      <td>+jMtz1zS2ES3/FYTLab2UuLR7aQ9xlEw</td>\n",
       "    </tr>\n",
       "    <tr>\n",
       "      <th>12</th>\n",
       "      <td>charles@gmail.com</td>\n",
       "      <td>pbkdf2:sha1:1000$h3LWqLiK$23742bc05bdc633f1f2f...</td>\n",
       "      <td>2016-10-30 18:06:50.771431</td>\n",
       "      <td>pbkdf2:sha1:1000$NRgoE9Oh$918ee7dfc3343f0a830b...</td>\n",
       "      <td>qeUmSYvi2uMucAw8AS9mFN8VAbuEuSx5</td>\n",
       "      <td>/G0rF+GTgNJ4e+cUTVY4VtfnBlSuAocB</td>\n",
       "    </tr>\n",
       "  </tbody>\n",
       "</table>\n",
       "</div>"
      ],
      "text/plain": [
       "                           email  \\\n",
       "0    kasper.vanlombeek@gmail.com   \n",
       "1    kasper.vanlombeek@gmail.com   \n",
       "2                 koen@gmail.com   \n",
       "3                karel@gmail.com   \n",
       "4                louis@gmail.com   \n",
       "5             huguette@gmail.com   \n",
       "6               sander@gmail.com   \n",
       "7    Kasper.vanlombeek@gmail.com   \n",
       "8   Kasper.vanlombeek2@gmail.com   \n",
       "9             caroline@gmail.com   \n",
       "10              pieter@gmail.com   \n",
       "11             pieterc@gmail.com   \n",
       "12             charles@gmail.com   \n",
       "\n",
       "                                             password  \\\n",
       "0   pbkdf2:sha1:1000$Wyn71TU8$4b18e5fd9009a64a31f1...   \n",
       "1   pbkdf2:sha1:1000$aWtGdBDn$8755722d67632dc976b0...   \n",
       "2   pbkdf2:sha1:1000$lZylYOh0$b8dafca97d70ca6eb64f...   \n",
       "3   pbkdf2:sha1:1000$uvCgmu9P$f5f064a056ed758f1c67...   \n",
       "4   pbkdf2:sha1:1000$uu7LY5HI$c885b92a94e5a50a608b...   \n",
       "5   pbkdf2:sha1:1000$GyfpfJ6z$90c6880984f9454e8dfe...   \n",
       "6   pbkdf2:sha1:1000$tUUTOTQ3$bd27b5a899611ccdfadc...   \n",
       "7   pbkdf2:sha1:1000$W9yPJiud$70c8c1574b50b96fc64b...   \n",
       "8   pbkdf2:sha1:1000$mtXtul3M$6267a1e9559ed7fd7064...   \n",
       "9   pbkdf2:sha1:1000$ls8Kfpzw$5c6079251544863b8c5c...   \n",
       "10  pbkdf2:sha1:1000$GR3tBsFt$265c7d431ec8d03ab9fa...   \n",
       "11  pbkdf2:sha1:1000$PJr7PegJ$a2e3aaa754d76baa6f98...   \n",
       "12  pbkdf2:sha1:1000$h3LWqLiK$23742bc05bdc633f1f2f...   \n",
       "\n",
       "             registration_time  \\\n",
       "0   2016-10-30 16:34:22.398307   \n",
       "1   2016-10-30 16:34:56.247596   \n",
       "2   2016-10-30 16:44:28.464317   \n",
       "3   2016-10-30 16:58:31.482368   \n",
       "4   2016-10-30 17:11:58.455755   \n",
       "5   2016-10-30 17:15:15.759667   \n",
       "6   2016-10-30 17:38:26.510013   \n",
       "7   2016-10-30 17:28:58.997696   \n",
       "8   2016-10-30 17:29:33.784859   \n",
       "9   2016-10-30 17:32:28.751487   \n",
       "10  2016-10-30 18:54:52.577470   \n",
       "11  2016-10-30 18:55:35.720033   \n",
       "12  2016-10-30 18:06:50.771431   \n",
       "\n",
       "                                      repeat_password  \\\n",
       "0   pbkdf2:sha1:1000$od19ZZ5n$79b108fcd277a0db9040...   \n",
       "1   pbkdf2:sha1:1000$1lOm6auM$9cbe95493e45288ea211...   \n",
       "2   pbkdf2:sha1:1000$kAiAXu0r$4cf5b0b58e467a2b4226...   \n",
       "3   pbkdf2:sha1:1000$xpETNte7$f447cfb7fcf873618e5a...   \n",
       "4   pbkdf2:sha1:1000$djhpb0nF$b0d4783664efb482bf68...   \n",
       "5   pbkdf2:sha1:1000$v8OmfeUX$768173cacca5902d3e26...   \n",
       "6   pbkdf2:sha1:1000$TtrYuCtb$e7ec614ec73ca7e9e970...   \n",
       "7   pbkdf2:sha1:1000$bRndO1Ty$413ed1d3683e3631606c...   \n",
       "8   pbkdf2:sha1:1000$VoHkazjT$ffc5cf0524cfd41f7c10...   \n",
       "9   pbkdf2:sha1:1000$L8q5dCbu$88663adfdbf4ddb767b3...   \n",
       "10  pbkdf2:sha1:1000$FWxFLXuu$6cbd940bb6642b9b35cb...   \n",
       "11  pbkdf2:sha1:1000$Eu4oxGtU$0ddd446215624a48783e...   \n",
       "12  pbkdf2:sha1:1000$NRgoE9Oh$918ee7dfc3343f0a830b...   \n",
       "\n",
       "                          session_id                           user_id  \n",
       "0   ONThR2UgJ11aJ3XtswH7W1mOyme1ZLAv  +jMtz1zS2ES3/FYTLab2UuLR7aQ9xlEw  \n",
       "1   BxxjuR5+15m8/2WBri2XoiBVqAUWzjP8  +jMtz1zS2ES3/FYTLab2UuLR7aQ9xlEw  \n",
       "2   m+ZF6w+DL8PSoM4N2gBIpMxePBkOdbdC  +jMtz1zS2ES3/FYTLab2UuLR7aQ9xlEw  \n",
       "3   6ISLVAlqofMRRH/g8kH7LPtE8Er9P2zA  +jMtz1zS2ES3/FYTLab2UuLR7aQ9xlEw  \n",
       "4   qvFPPjySXsAJoiyqPpSj/K9y0Q/f2sUu  +jMtz1zS2ES3/FYTLab2UuLR7aQ9xlEw  \n",
       "5   +YKilKF3sF0DybkcLVHUnz+rkLpjjGSV  +jMtz1zS2ES3/FYTLab2UuLR7aQ9xlEw  \n",
       "6   YMxDhXfoRFqSEZKNNwjLU8plMvqpmekF  +jMtz1zS2ES3/FYTLab2UuLR7aQ9xlEw  \n",
       "7   r0N+vn719d9kVNnxcV46VEDuvOR2bOV4  5JVW0Me1JjkXvaTM7+0MB6V4NCjHK3Rn  \n",
       "8   r0N+vn719d9kVNnxcV46VEDuvOR2bOV4  5JVW0Me1JjkXvaTM7+0MB6V4NCjHK3Rn  \n",
       "9   cMf05P1CNI2Qza9BgbS9Z/QT2mYPrrkO  jVd2lPoEEP+psxLoqN434N6GzDPwdR7O  \n",
       "10  1FdoiE5CkhXpASZPAdqEz3J67wN7wn3l  +jMtz1zS2ES3/FYTLab2UuLR7aQ9xlEw  \n",
       "11  9hxst+elm2LQWhNUGqVBSzmOuqa3GPHz  +jMtz1zS2ES3/FYTLab2UuLR7aQ9xlEw  \n",
       "12  qeUmSYvi2uMucAw8AS9mFN8VAbuEuSx5  /G0rF+GTgNJ4e+cUTVY4VtfnBlSuAocB  "
      ]
     },
     "execution_count": 91,
     "metadata": {},
     "output_type": "execute_result"
    }
   ],
   "source": [
    "users = pd.read_sql('''SELECT * FROM registered_users ''', con=engine)\n",
    "users"
   ]
  },
  {
   "cell_type": "code",
   "execution_count": 86,
   "metadata": {
    "collapsed": false
   },
   "outputs": [
    {
     "data": {
      "text/plain": [
       "'pbkdf2:sha1:1000$uvCgmu9P$f5f064a056ed758f1c67c83fdc0b4aeec5fd88fb'"
      ]
     },
     "execution_count": 86,
     "metadata": {},
     "output_type": "execute_result"
    }
   ],
   "source": [
    "users['password'][0]"
   ]
  },
  {
   "cell_type": "code",
   "execution_count": 87,
   "metadata": {
    "collapsed": false
   },
   "outputs": [
    {
     "data": {
      "text/plain": [
       "True"
      ]
     },
     "execution_count": 87,
     "metadata": {},
     "output_type": "execute_result"
    }
   ],
   "source": [
    "from werkzeug.security import generate_password_hash, check_password_hash\n",
    "check_password_hash(password = 'karel', pwhash='pbkdf2:sha1:1000$uvCgmu9P$f5f064a056ed758f1c67c83fdc0b4aeec5fd88fb')"
   ]
  },
  {
   "cell_type": "code",
   "execution_count": 55,
   "metadata": {
    "collapsed": false
   },
   "outputs": [],
   "source": [
    "feedback = pd.read_sql('''SELECT * FROM feedback''', con=engine_AWS)\n",
    "feedback.columns = [column.lower() for column in feedback.columns]\n",
    "feedback.to_sql(con=engine_AWS, name='feedback',index=False, if_exists='replace')"
   ]
  },
  {
   "cell_type": "code",
   "execution_count": 68,
   "metadata": {
    "collapsed": false
   },
   "outputs": [
    {
     "data": {
      "text/html": [
       "<div>\n",
       "<table border=\"1\" class=\"dataframe\">\n",
       "  <thead>\n",
       "    <tr style=\"text-align: right;\">\n",
       "      <th></th>\n",
       "      <th>feedback</th>\n",
       "      <th>name</th>\n",
       "      <th>session_id</th>\n",
       "      <th>time</th>\n",
       "      <th>user_id</th>\n",
       "      <th>sex</th>\n",
       "    </tr>\n",
       "  </thead>\n",
       "  <tbody>\n",
       "    <tr>\n",
       "      <th>439</th>\n",
       "      <td>like</td>\n",
       "      <td>Emile</td>\n",
       "      <td>hMErCykJ4PQyxpKyKcVJZJEajQC5oJWt</td>\n",
       "      <td>2016-09-05 11:50:11.941045</td>\n",
       "      <td>wbwCqGiw9/OnompOE6L6vCpIC93t53+U</td>\n",
       "      <td>M</td>\n",
       "    </tr>\n",
       "    <tr>\n",
       "      <th>440</th>\n",
       "      <td>no_like</td>\n",
       "      <td>Richard</td>\n",
       "      <td>hMErCykJ4PQyxpKyKcVJZJEajQC5oJWt</td>\n",
       "      <td>2016-09-05 11:50:19.174217</td>\n",
       "      <td>wbwCqGiw9/OnompOE6L6vCpIC93t53+U</td>\n",
       "      <td>M</td>\n",
       "    </tr>\n",
       "    <tr>\n",
       "      <th>441</th>\n",
       "      <td>no_like</td>\n",
       "      <td>Sasha</td>\n",
       "      <td>hMErCykJ4PQyxpKyKcVJZJEajQC5oJWt</td>\n",
       "      <td>2016-09-05 11:50:54.944717</td>\n",
       "      <td>wbwCqGiw9/OnompOE6L6vCpIC93t53+U</td>\n",
       "      <td>M</td>\n",
       "    </tr>\n",
       "    <tr>\n",
       "      <th>442</th>\n",
       "      <td>no_like</td>\n",
       "      <td>Diego</td>\n",
       "      <td>hMErCykJ4PQyxpKyKcVJZJEajQC5oJWt</td>\n",
       "      <td>2016-09-05 11:51:12.248166</td>\n",
       "      <td>wbwCqGiw9/OnompOE6L6vCpIC93t53+U</td>\n",
       "      <td>M</td>\n",
       "    </tr>\n",
       "    <tr>\n",
       "      <th>443</th>\n",
       "      <td>no_like</td>\n",
       "      <td>Alexis</td>\n",
       "      <td>hMErCykJ4PQyxpKyKcVJZJEajQC5oJWt</td>\n",
       "      <td>2016-09-05 11:51:18.306556</td>\n",
       "      <td>wbwCqGiw9/OnompOE6L6vCpIC93t53+U</td>\n",
       "      <td>M</td>\n",
       "    </tr>\n",
       "  </tbody>\n",
       "</table>\n",
       "</div>"
      ],
      "text/plain": [
       "    feedback     name                        session_id  \\\n",
       "439     like    Emile  hMErCykJ4PQyxpKyKcVJZJEajQC5oJWt   \n",
       "440  no_like  Richard  hMErCykJ4PQyxpKyKcVJZJEajQC5oJWt   \n",
       "441  no_like    Sasha  hMErCykJ4PQyxpKyKcVJZJEajQC5oJWt   \n",
       "442  no_like    Diego  hMErCykJ4PQyxpKyKcVJZJEajQC5oJWt   \n",
       "443  no_like   Alexis  hMErCykJ4PQyxpKyKcVJZJEajQC5oJWt   \n",
       "\n",
       "                           time                           user_id sex  \n",
       "439  2016-09-05 11:50:11.941045  wbwCqGiw9/OnompOE6L6vCpIC93t53+U   M  \n",
       "440  2016-09-05 11:50:19.174217  wbwCqGiw9/OnompOE6L6vCpIC93t53+U   M  \n",
       "441  2016-09-05 11:50:54.944717  wbwCqGiw9/OnompOE6L6vCpIC93t53+U   M  \n",
       "442  2016-09-05 11:51:12.248166  wbwCqGiw9/OnompOE6L6vCpIC93t53+U   M  \n",
       "443  2016-09-05 11:51:18.306556  wbwCqGiw9/OnompOE6L6vCpIC93t53+U   M  "
      ]
     },
     "execution_count": 68,
     "metadata": {},
     "output_type": "execute_result"
    }
   ],
   "source": [
    "pd.read_sql('''SELECT * FROM feedback''', con=engine_AWS).tail()"
   ]
  },
  {
   "cell_type": "code",
   "execution_count": 67,
   "metadata": {
    "collapsed": false
   },
   "outputs": [
    {
     "data": {
      "text/plain": [
       "<sqlalchemy.engine.result.ResultProxy at 0x11d1aa3c8>"
      ]
     },
     "execution_count": 67,
     "metadata": {},
     "output_type": "execute_result"
    }
   ],
   "source": [
    "engine_AWS.execute('''DELETE FROM feedback WHERE time ='F' ''')"
   ]
  },
  {
   "cell_type": "code",
   "execution_count": null,
   "metadata": {
    "collapsed": true
   },
   "outputs": [],
   "source": []
  }
 ],
 "metadata": {
  "anaconda-cloud": {},
  "kernelspec": {
   "display_name": "Python [conda env:ing-rockestate-env]",
   "language": "python",
   "name": "conda-env-ing-rockestate-env-py"
  }
 },
 "nbformat": 4,
 "nbformat_minor": 0
}
