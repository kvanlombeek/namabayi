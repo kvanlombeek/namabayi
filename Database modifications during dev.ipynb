{
 "cells": [
  {
   "cell_type": "code",
   "execution_count": 1,
   "metadata": {
    "collapsed": false
   },
   "outputs": [
    {
     "data": {
      "text/html": [
       "<style>.container { width:100% !important; }</style>"
      ],
      "text/plain": [
       "<IPython.core.display.HTML object>"
      ]
     },
     "execution_count": 1,
     "metadata": {},
     "output_type": "execute_result"
    }
   ],
   "source": [
    "import pandas as pd\n",
    "import numpy as np\n",
    "import matplotlib.pyplot as plt\n",
    "import re\n",
    "import sqlite3\n",
    "%matplotlib inline\n",
    "from IPython.core.display import HTML\n",
    "pd.options.display.max_columns = 50\n",
    "import seaborn as sb\n",
    "import datetime\n",
    "from sqlalchemy import create_engine\n",
    "import psycopg2\n",
    "HTML(\"<style>.container { width:100% !important; }</style>\")"
   ]
  },
  {
   "cell_type": "code",
   "execution_count": 2,
   "metadata": {
    "collapsed": false
   },
   "outputs": [],
   "source": [
    "#sql_conn_local = sqlite3.connect('flask_app/data/analysed_data.sql')\n",
    "#sql_cursor_local = sql_conn.cursor()\n",
    "conn = psycopg2.connect(\"dbname='grb_2016_03' host='forespellpostgis.cusejoju89w7.eu-west-1.rds.amazonaws.com' user='kasper' password='VosseM08'\")\n",
    "cur = conn.cursor()\n",
    "engine_AWS = create_engine('postgresql://%s:%s@forespellpostgis.cusejoju89w7.eu-west-1.rds.amazonaws.com:5432/grb_2016_03' %('kasper', 'VosseM08'))"
   ]
  },
  {
   "cell_type": "code",
   "execution_count": 4,
   "metadata": {
    "collapsed": true
   },
   "outputs": [],
   "source": [
    "engine = create_engine('postgresql://%s:%s@forespellpostgis.cusejoju89w7.eu-west-1.rds.amazonaws.com:5432/grb_2016_03' %('namabayi_dev', 'namabayi_dev_40'))\n",
    "conn = psycopg2.connect(\"dbname='grb_2016_03' host='forespellpostgis.cusejoju89w7.eu-west-1.rds.amazonaws.com' user='namabayi_dev' password='namabayi_dev_40'\")\n",
    "cur = conn.cursor()"
   ]
  },
  {
   "cell_type": "code",
   "execution_count": 20,
   "metadata": {
    "collapsed": false
   },
   "outputs": [],
   "source": [
    "#name_info = pd.read_sql('''SELECT * FROM voornamen_pivot WHERE region = 'Vlaanderen' AND sex = 'M'  LIMIT 10''', con=engine)\n",
    "name_info = pd.read_sql('''SELECT name, minus18 FROM voornamen_pivot WHERE region = 'Vlaanderen' AND sex = 'M' ''', con=engine)"
   ]
  },
  {
   "cell_type": "code",
   "execution_count": 29,
   "metadata": {
    "collapsed": false
   },
   "outputs": [
    {
     "data": {
      "text/plain": [
       "<matplotlib.axes._subplots.AxesSubplot at 0x1165cc588>"
      ]
     },
     "execution_count": 29,
     "metadata": {},
     "output_type": "execute_result"
    },
    {
     "data": {
      "image/png": "[encoded data removed]",
      "text/plain": [
       "<matplotlib.figure.Figure at 0x11650f668>"
      ]
     },
     "metadata": {},
     "output_type": "display_data"
    }
   ],
   "source": [
    "name_info['prior'] = name_info['minus18'] / np.sum(name_info['minus18'])\n",
    "name_info['prior'].hist(bins=50)\n",
    "#name_info.loc[name_info['name'] == 'Victor','minus18'] / np.sum(name_info['minus18'])"
   ]
  },
  {
   "cell_type": "code",
   "execution_count": 50,
   "metadata": {
    "collapsed": false
   },
   "outputs": [
    {
     "name": "stdout",
     "output_type": "stream",
     "text": [
      "452      Blanche\n",
      "154    Marjolein\n",
      "993      Hayriye\n",
      "601      Mafalda\n",
      "153        Karla\n",
      "353       Albina\n",
      "184      Aurélie\n",
      "87         Luise\n",
      "846     Stefanie\n",
      "907     Gertrude\n",
      "700     Gilberta\n",
      "890       Sheila\n",
      "263       Sylvie\n",
      "276       Denise\n",
      "777       Bertha\n",
      "923    Gerardine\n",
      "358    Hubertina\n",
      "788       Joanna\n",
      "287    Gabrielle\n",
      "718      Ariette\n",
      "Name: name, dtype: object\n",
      "490         Sarah\n",
      "184       Aurélie\n",
      "846      Stefanie\n",
      "710       Justine\n",
      "154     Marjolein\n",
      "179         Ilona\n",
      "908          Elif\n",
      "510      Angelina\n",
      "228         Aïcha\n",
      "788        Joanna\n",
      "263        Sylvie\n",
      "321        Robine\n",
      "96        Karlien\n",
      "287     Gabrielle\n",
      "448       Margaux\n",
      "487          Elsa\n",
      "353        Albina\n",
      "48          Irina\n",
      "182    Frédérique\n",
      "276        Denise\n",
      "Name: name, dtype: object\n"
     ]
    }
   ],
   "source": [
    "odds = pd.read_csv('flask_app/odds.csv')\n",
    "odds['odds_ratio_2'] = odds['odds_ratio'] * odds['minus18'] / np.sum(odds['minus18'])\n",
    "odds = odds.sort_values('odds_ratio', ascending=False)\n",
    "print(odds['name'].head(20))\n",
    "odds = odds.sort_values('odds_ratio_2', ascending=False)\n",
    "print(odds['name'].head(20))"
   ]
  },
  {
   "cell_type": "code",
   "execution_count": 72,
   "metadata": {
    "collapsed": false
   },
   "outputs": [
    {
     "data": {
      "text/html": [
       "<div>\n",
       "<table border=\"1\" class=\"dataframe\">\n",
       "  <thead>\n",
       "    <tr style=\"text-align: right;\">\n",
       "      <th></th>\n",
       "      <th>ip_address</th>\n",
       "      <th>session_ID</th>\n",
       "      <th>time</th>\n",
       "      <th>user_ID</th>\n",
       "      <th>user_agent</th>\n",
       "      <th>window_height</th>\n",
       "      <th>window_width</th>\n",
       "    </tr>\n",
       "  </thead>\n",
       "  <tbody>\n",
       "    <tr>\n",
       "      <th>333</th>\n",
       "      <td>127.0.0.1</td>\n",
       "      <td>ttCDD+WANqAHGuhwlRURWYX+mvEz0Afk</td>\n",
       "      <td>2016-09-18 17:08:05.412191</td>\n",
       "      <td>3gG4j0QstaS/DoYZfBTQMlCOfcoo7/0G</td>\n",
       "      <td>Mozilla/5.0 (Macintosh; Intel Mac OS X 10.10; ...</td>\n",
       "      <td>766</td>\n",
       "      <td>1440</td>\n",
       "    </tr>\n",
       "    <tr>\n",
       "      <th>334</th>\n",
       "      <td>127.0.0.1</td>\n",
       "      <td>ia4CIb19ASzCJW2m70yhuVgy/8vejcpN</td>\n",
       "      <td>2016-09-18 17:08:50.166670</td>\n",
       "      <td>gyIivrZNDOiis8mhj7J9nSHeSbeRIEOa</td>\n",
       "      <td>Mozilla/5.0 (Macintosh; Intel Mac OS X 10_10_3...</td>\n",
       "      <td>150</td>\n",
       "      <td>1280</td>\n",
       "    </tr>\n",
       "    <tr>\n",
       "      <th>335</th>\n",
       "      <td>127.0.0.1</td>\n",
       "      <td>b5cDg8b2SPAe5tLhyxMNCUeQwA3436qK</td>\n",
       "      <td>2016-09-18 17:10:03.835002</td>\n",
       "      <td>gyIivrZNDOiis8mhj7J9nSHeSbeRIEOa</td>\n",
       "      <td>Mozilla/5.0 (Macintosh; Intel Mac OS X 10_10_3...</td>\n",
       "      <td>391</td>\n",
       "      <td>1280</td>\n",
       "    </tr>\n",
       "    <tr>\n",
       "      <th>336</th>\n",
       "      <td>127.0.0.1</td>\n",
       "      <td>E0IcScWf0sQqcglXrMGgMAF6J2XhrYCT</td>\n",
       "      <td>2016-09-18 17:11:02.722404</td>\n",
       "      <td>gyIivrZNDOiis8mhj7J9nSHeSbeRIEOa</td>\n",
       "      <td>Mozilla/5.0 (Macintosh; Intel Mac OS X 10_10_3...</td>\n",
       "      <td>391</td>\n",
       "      <td>1280</td>\n",
       "    </tr>\n",
       "    <tr>\n",
       "      <th>337</th>\n",
       "      <td>127.0.0.1</td>\n",
       "      <td>JwLm6IqN9rP5P+T73l8dpX0fyJtYrF9v</td>\n",
       "      <td>2016-09-18 17:12:35.963271</td>\n",
       "      <td>gyIivrZNDOiis8mhj7J9nSHeSbeRIEOa</td>\n",
       "      <td>Mozilla/5.0 (Macintosh; Intel Mac OS X 10_10_3...</td>\n",
       "      <td>391</td>\n",
       "      <td>1280</td>\n",
       "    </tr>\n",
       "  </tbody>\n",
       "</table>\n",
       "</div>"
      ],
      "text/plain": [
       "    ip_address                        session_ID                        time  \\\n",
       "333  127.0.0.1  ttCDD+WANqAHGuhwlRURWYX+mvEz0Afk  2016-09-18 17:08:05.412191   \n",
       "334  127.0.0.1  ia4CIb19ASzCJW2m70yhuVgy/8vejcpN  2016-09-18 17:08:50.166670   \n",
       "335  127.0.0.1  b5cDg8b2SPAe5tLhyxMNCUeQwA3436qK  2016-09-18 17:10:03.835002   \n",
       "336  127.0.0.1  E0IcScWf0sQqcglXrMGgMAF6J2XhrYCT  2016-09-18 17:11:02.722404   \n",
       "337  127.0.0.1  JwLm6IqN9rP5P+T73l8dpX0fyJtYrF9v  2016-09-18 17:12:35.963271   \n",
       "\n",
       "                              user_ID  \\\n",
       "333  3gG4j0QstaS/DoYZfBTQMlCOfcoo7/0G   \n",
       "334  gyIivrZNDOiis8mhj7J9nSHeSbeRIEOa   \n",
       "335  gyIivrZNDOiis8mhj7J9nSHeSbeRIEOa   \n",
       "336  gyIivrZNDOiis8mhj7J9nSHeSbeRIEOa   \n",
       "337  gyIivrZNDOiis8mhj7J9nSHeSbeRIEOa   \n",
       "\n",
       "                                            user_agent window_height  \\\n",
       "333  Mozilla/5.0 (Macintosh; Intel Mac OS X 10.10; ...           766   \n",
       "334  Mozilla/5.0 (Macintosh; Intel Mac OS X 10_10_3...           150   \n",
       "335  Mozilla/5.0 (Macintosh; Intel Mac OS X 10_10_3...           391   \n",
       "336  Mozilla/5.0 (Macintosh; Intel Mac OS X 10_10_3...           391   \n",
       "337  Mozilla/5.0 (Macintosh; Intel Mac OS X 10_10_3...           391   \n",
       "\n",
       "    window_width  \n",
       "333         1440  \n",
       "334         1280  \n",
       "335         1280  \n",
       "336         1280  \n",
       "337         1280  "
      ]
     },
     "execution_count": 72,
     "metadata": {},
     "output_type": "execute_result"
    }
   ],
   "source": [
    "pd.read_sql('''SELECT * FROM sessions''', con=engine_AWS).tail(5)"
   ]
  },
  {
   "cell_type": "code",
   "execution_count": 55,
   "metadata": {
    "collapsed": false
   },
   "outputs": [],
   "source": [
    "feedback = pd.read_sql('''SELECT * FROM feedback''', con=engine_AWS)\n",
    "feedback.columns = [column.lower() for column in feedback.columns]\n",
    "feedback.to_sql(con=engine_AWS, name='feedback',index=False, if_exists='replace')"
   ]
  },
  {
   "cell_type": "code",
   "execution_count": 68,
   "metadata": {
    "collapsed": false
   },
   "outputs": [
    {
     "data": {
      "text/html": [
       "<div>\n",
       "<table border=\"1\" class=\"dataframe\">\n",
       "  <thead>\n",
       "    <tr style=\"text-align: right;\">\n",
       "      <th></th>\n",
       "      <th>feedback</th>\n",
       "      <th>name</th>\n",
       "      <th>session_id</th>\n",
       "      <th>time</th>\n",
       "      <th>user_id</th>\n",
       "      <th>sex</th>\n",
       "    </tr>\n",
       "  </thead>\n",
       "  <tbody>\n",
       "    <tr>\n",
       "      <th>439</th>\n",
       "      <td>like</td>\n",
       "      <td>Emile</td>\n",
       "      <td>hMErCykJ4PQyxpKyKcVJZJEajQC5oJWt</td>\n",
       "      <td>2016-09-05 11:50:11.941045</td>\n",
       "      <td>wbwCqGiw9/OnompOE6L6vCpIC93t53+U</td>\n",
       "      <td>M</td>\n",
       "    </tr>\n",
       "    <tr>\n",
       "      <th>440</th>\n",
       "      <td>no_like</td>\n",
       "      <td>Richard</td>\n",
       "      <td>hMErCykJ4PQyxpKyKcVJZJEajQC5oJWt</td>\n",
       "      <td>2016-09-05 11:50:19.174217</td>\n",
       "      <td>wbwCqGiw9/OnompOE6L6vCpIC93t53+U</td>\n",
       "      <td>M</td>\n",
       "    </tr>\n",
       "    <tr>\n",
       "      <th>441</th>\n",
       "      <td>no_like</td>\n",
       "      <td>Sasha</td>\n",
       "      <td>hMErCykJ4PQyxpKyKcVJZJEajQC5oJWt</td>\n",
       "      <td>2016-09-05 11:50:54.944717</td>\n",
       "      <td>wbwCqGiw9/OnompOE6L6vCpIC93t53+U</td>\n",
       "      <td>M</td>\n",
       "    </tr>\n",
       "    <tr>\n",
       "      <th>442</th>\n",
       "      <td>no_like</td>\n",
       "      <td>Diego</td>\n",
       "      <td>hMErCykJ4PQyxpKyKcVJZJEajQC5oJWt</td>\n",
       "      <td>2016-09-05 11:51:12.248166</td>\n",
       "      <td>wbwCqGiw9/OnompOE6L6vCpIC93t53+U</td>\n",
       "      <td>M</td>\n",
       "    </tr>\n",
       "    <tr>\n",
       "      <th>443</th>\n",
       "      <td>no_like</td>\n",
       "      <td>Alexis</td>\n",
       "      <td>hMErCykJ4PQyxpKyKcVJZJEajQC5oJWt</td>\n",
       "      <td>2016-09-05 11:51:18.306556</td>\n",
       "      <td>wbwCqGiw9/OnompOE6L6vCpIC93t53+U</td>\n",
       "      <td>M</td>\n",
       "    </tr>\n",
       "  </tbody>\n",
       "</table>\n",
       "</div>"
      ],
      "text/plain": [
       "    feedback     name                        session_id  \\\n",
       "439     like    Emile  hMErCykJ4PQyxpKyKcVJZJEajQC5oJWt   \n",
       "440  no_like  Richard  hMErCykJ4PQyxpKyKcVJZJEajQC5oJWt   \n",
       "441  no_like    Sasha  hMErCykJ4PQyxpKyKcVJZJEajQC5oJWt   \n",
       "442  no_like    Diego  hMErCykJ4PQyxpKyKcVJZJEajQC5oJWt   \n",
       "443  no_like   Alexis  hMErCykJ4PQyxpKyKcVJZJEajQC5oJWt   \n",
       "\n",
       "                           time                           user_id sex  \n",
       "439  2016-09-05 11:50:11.941045  wbwCqGiw9/OnompOE6L6vCpIC93t53+U   M  \n",
       "440  2016-09-05 11:50:19.174217  wbwCqGiw9/OnompOE6L6vCpIC93t53+U   M  \n",
       "441  2016-09-05 11:50:54.944717  wbwCqGiw9/OnompOE6L6vCpIC93t53+U   M  \n",
       "442  2016-09-05 11:51:12.248166  wbwCqGiw9/OnompOE6L6vCpIC93t53+U   M  \n",
       "443  2016-09-05 11:51:18.306556  wbwCqGiw9/OnompOE6L6vCpIC93t53+U   M  "
      ]
     },
     "execution_count": 68,
     "metadata": {},
     "output_type": "execute_result"
    }
   ],
   "source": [
    "pd.read_sql('''SELECT * FROM feedback''', con=engine_AWS).tail()"
   ]
  },
  {
   "cell_type": "code",
   "execution_count": 67,
   "metadata": {
    "collapsed": false
   },
   "outputs": [
    {
     "data": {
      "text/plain": [
       "<sqlalchemy.engine.result.ResultProxy at 0x11d1aa3c8>"
      ]
     },
     "execution_count": 67,
     "metadata": {},
     "output_type": "execute_result"
    }
   ],
   "source": [
    "engine_AWS.execute('''DELETE FROM feedback WHERE time ='F' ''')"
   ]
  },
  {
   "cell_type": "code",
   "execution_count": null,
   "metadata": {
    "collapsed": true
   },
   "outputs": [],
   "source": []
  }
 ],
 "metadata": {
  "anaconda-cloud": {},
  "kernelspec": {
   "display_name": "Python [Root]",
   "language": "python",
   "name": "Python [Root]"
  },
  "language_info": {
   "codemirror_mode": {
    "name": "ipython",
    "version": 3
   },
   "file_extension": ".py",
   "mimetype": "text/x-python",
   "name": "python",
   "nbconvert_exporter": "python",
   "pygments_lexer": "ipython3",
   "version": "3.5.2"
  }
 },
 "nbformat": 4,
 "nbformat_minor": 0
}
