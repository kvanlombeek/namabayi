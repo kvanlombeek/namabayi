{
 "cells": [
  {
   "cell_type": "code",
   "execution_count": 92,
   "metadata": {
    "collapsed": false
   },
   "outputs": [
    {
     "data": {
      "text/html": [
       "<style>.container { width:100% !important; }</style>"
      ],
      "text/plain": [
       "<IPython.core.display.HTML object>"
      ]
     },
     "execution_count": 92,
     "metadata": {},
     "output_type": "execute_result"
    }
   ],
   "source": [
    "import pandas as pd\n",
    "import numpy as np\n",
    "import matplotlib.pyplot as plt\n",
    "import re\n",
    "import sqlite3\n",
    "%matplotlib inline\n",
    "from IPython.core.display import HTML\n",
    "pd.options.display.max_columns = 50\n",
    "import seaborn as sb\n",
    "import datetime\n",
    "from sqlalchemy import create_engine\n",
    "import psycopg2\n",
    "HTML(\"<style>.container { width:100% !important; }</style>\")"
   ]
  },
  {
   "cell_type": "code",
   "execution_count": 93,
   "metadata": {
    "collapsed": false
   },
   "outputs": [],
   "source": [
    "#sql_conn_local = sqlite3.connect('flask_app/data/analysed_data.sql')\n",
    "#sql_cursor_local = sql_conn.cursor()\n",
    "conn = psycopg2.connect(\"dbname='grb_2016_03' host='forespellpostgis.cusejoju89w7.eu-west-1.rds.amazonaws.com' user='kasper' password='VosseM08'\")\n",
    "cur = conn.cursor()\n",
    "engine_AWS = create_engine('postgresql://%s:%s@forespellpostgis.cusejoju89w7.eu-west-1.rds.amazonaws.com:5432/grb_2016_03' %('kasper', 'VosseM08'))"
   ]
  },
  {
   "cell_type": "code",
   "execution_count": 63,
   "metadata": {
    "collapsed": true
   },
   "outputs": [],
   "source": [
    "engine = create_engine('postgresql://%s:%s@forespellpostgis.cusejoju89w7.eu-west-1.rds.amazonaws.com:5432/grb_2016_03' %('namabayi_dev', 'namabayi_dev_40'))\n",
    "conn = psycopg2.connect(\"dbname='grb_2016_03' host='forespellpostgis.cusejoju89w7.eu-west-1.rds.amazonaws.com' user='namabayi_dev' password='namabayi_dev_40'\")\n",
    "cur = conn.cursor()"
   ]
  },
  {
   "cell_type": "code",
   "execution_count": 20,
   "metadata": {
    "collapsed": false
   },
   "outputs": [],
   "source": [
    "#name_info = pd.read_sql('''SELECT * FROM voornamen_pivot WHERE region = 'Vlaanderen' AND sex = 'M'  LIMIT 10''', con=engine)\n",
    "name_info = pd.read_sql('''SELECT name, minus18 FROM voornamen_pivot WHERE region = 'Vlaanderen' AND sex = 'M' ''', con=engine)"
   ]
  },
  {
   "cell_type": "code",
   "execution_count": 55,
   "metadata": {
    "collapsed": false
   },
   "outputs": [
    {
     "data": {
      "text/html": [
       "<div>\n",
       "<table border=\"1\" class=\"dataframe\">\n",
       "  <thead>\n",
       "    <tr style=\"text-align: right;\">\n",
       "      <th></th>\n",
       "      <th>ip_address</th>\n",
       "      <th>session_ID</th>\n",
       "      <th>time</th>\n",
       "      <th>user_ID</th>\n",
       "      <th>user_agent</th>\n",
       "      <th>window_height</th>\n",
       "      <th>window_width</th>\n",
       "    </tr>\n",
       "  </thead>\n",
       "  <tbody>\n",
       "    <tr>\n",
       "      <th>2004</th>\n",
       "      <td>127.0.0.1</td>\n",
       "      <td>IwqnoDMNXDyGhUWX0KWy48eXKzfXKGDZ</td>\n",
       "      <td>2016-10-30 16:17:28.175706</td>\n",
       "      <td>+jMtz1zS2ES3/FYTLab2UuLR7aQ9xlEw</td>\n",
       "      <td>Mozilla/5.0 (iPhone; CPU iPhone OS 9_1 like Ma...</td>\n",
       "      <td>568</td>\n",
       "      <td>320</td>\n",
       "    </tr>\n",
       "  </tbody>\n",
       "</table>\n",
       "</div>"
      ],
      "text/plain": [
       "     ip_address                        session_ID                        time  \\\n",
       "2004  127.0.0.1  IwqnoDMNXDyGhUWX0KWy48eXKzfXKGDZ  2016-10-30 16:17:28.175706   \n",
       "\n",
       "                               user_ID  \\\n",
       "2004  +jMtz1zS2ES3/FYTLab2UuLR7aQ9xlEw   \n",
       "\n",
       "                                             user_agent window_height  \\\n",
       "2004  Mozilla/5.0 (iPhone; CPU iPhone OS 9_1 like Ma...           568   \n",
       "\n",
       "     window_width  \n",
       "2004          320  "
      ]
     },
     "execution_count": 55,
     "metadata": {},
     "output_type": "execute_result"
    }
   ],
   "source": [
    "sessions = pd.read_sql('''SELECT * FROM sessions''', con=engine)\n",
    "sessions.tail(1)"
   ]
  },
  {
   "cell_type": "code",
   "execution_count": 91,
   "metadata": {
    "collapsed": false
   },
   "outputs": [
    {
     "data": {
      "text/html": [
       "<div>\n",
       "<table border=\"1\" class=\"dataframe\">\n",
       "  <thead>\n",
       "    <tr style=\"text-align: right;\">\n",
       "      <th></th>\n",
       "      <th>email</th>\n",
       "      <th>password</th>\n",
       "      <th>registration_time</th>\n",
       "      <th>repeat_password</th>\n",
       "      <th>session_id</th>\n",
       "      <th>user_id</th>\n",
       "    </tr>\n",
       "  </thead>\n",
       "  <tbody>\n",
       "    <tr>\n",
       "      <th>0</th>\n",
       "      <td>kasper.vanlombeek@gmail.com</td>\n",
       "      <td>pbkdf2:sha1:1000$Wyn71TU8$4b18e5fd9009a64a31f1...</td>\n",
       "      <td>2016-10-30 16:34:22.398307</td>\n",
       "      <td>pbkdf2:sha1:1000$od19ZZ5n$79b108fcd277a0db9040...</td>\n",
       "      <td>ONThR2UgJ11aJ3XtswH7W1mOyme1ZLAv</td>\n",
       "      <td>+jMtz1zS2ES3/FYTLab2UuLR7aQ9xlEw</td>\n",
       "    </tr>\n",
       "    <tr>\n",
       "      <th>1</th>\n",
       "      <td>kasper.vanlombeek@gmail.com</td>\n",
       "      <td>pbkdf2:sha1:1000$aWtGdBDn$8755722d67632dc976b0...</td>\n",
       "      <td>2016-10-30 16:34:56.247596</td>\n",
       "      <td>pbkdf2:sha1:1000$1lOm6auM$9cbe95493e45288ea211...</td>\n",
       "      <td>BxxjuR5+15m8/2WBri2XoiBVqAUWzjP8</td>\n",
       "      <td>+jMtz1zS2ES3/FYTLab2UuLR7aQ9xlEw</td>\n",
       "    </tr>\n",
       "    <tr>\n",
       "      <th>2</th>\n",
       "      <td>koen@gmail.com</td>\n",
       "      <td>pbkdf2:sha1:1000$lZylYOh0$b8dafca97d70ca6eb64f...</td>\n",
       "      <td>2016-10-30 16:44:28.464317</td>\n",
       "      <td>pbkdf2:sha1:1000$kAiAXu0r$4cf5b0b58e467a2b4226...</td>\n",
       "      <td>m+ZF6w+DL8PSoM4N2gBIpMxePBkOdbdC</td>\n",
       "      <td>+jMtz1zS2ES3/FYTLab2UuLR7aQ9xlEw</td>\n",
       "    </tr>\n",
       "    <tr>\n",
       "      <th>3</th>\n",
       "      <td>karel@gmail.com</td>\n",
       "      <td>pbkdf2:sha1:1000$uvCgmu9P$f5f064a056ed758f1c67...</td>\n",
       "      <td>2016-10-30 16:58:31.482368</td>\n",
       "      <td>pbkdf2:sha1:1000$xpETNte7$f447cfb7fcf873618e5a...</td>\n",
       "      <td>6ISLVAlqofMRRH/g8kH7LPtE8Er9P2zA</td>\n",
       "      <td>+jMtz1zS2ES3/FYTLab2UuLR7aQ9xlEw</td>\n",
       "    </tr>\n",
       "    <tr>\n",
       "      <th>4</th>\n",
       "      <td>louis@gmail.com</td>\n",
       "      <td>pbkdf2:sha1:1000$uu7LY5HI$c885b92a94e5a50a608b...</td>\n",
       "      <td>2016-10-30 17:11:58.455755</td>\n",
       "      <td>pbkdf2:sha1:1000$djhpb0nF$b0d4783664efb482bf68...</td>\n",
       "      <td>qvFPPjySXsAJoiyqPpSj/K9y0Q/f2sUu</td>\n",
       "      <td>+jMtz1zS2ES3/FYTLab2UuLR7aQ9xlEw</td>\n",
       "    </tr>\n",
       "    <tr>\n",
       "      <th>5</th>\n",
       "      <td>huguette@gmail.com</td>\n",
       "      <td>pbkdf2:sha1:1000$GyfpfJ6z$90c6880984f9454e8dfe...</td>\n",
       "      <td>2016-10-30 17:15:15.759667</td>\n",
       "      <td>pbkdf2:sha1:1000$v8OmfeUX$768173cacca5902d3e26...</td>\n",
       "      <td>+YKilKF3sF0DybkcLVHUnz+rkLpjjGSV</td>\n",
       "      <td>+jMtz1zS2ES3/FYTLab2UuLR7aQ9xlEw</td>\n",
       "    </tr>\n",
       "    <tr>\n",
       "      <th>6</th>\n",
       "      <td>sander@gmail.com</td>\n",
       "      <td>pbkdf2:sha1:1000$tUUTOTQ3$bd27b5a899611ccdfadc...</td>\n",
       "      <td>2016-10-30 17:38:26.510013</td>\n",
       "      <td>pbkdf2:sha1:1000$TtrYuCtb$e7ec614ec73ca7e9e970...</td>\n",
       "      <td>YMxDhXfoRFqSEZKNNwjLU8plMvqpmekF</td>\n",
       "      <td>+jMtz1zS2ES3/FYTLab2UuLR7aQ9xlEw</td>\n",
       "    </tr>\n",
       "    <tr>\n",
       "      <th>7</th>\n",
       "      <td>Kasper.vanlombeek@gmail.com</td>\n",
       "      <td>pbkdf2:sha1:1000$W9yPJiud$70c8c1574b50b96fc64b...</td>\n",
       "      <td>2016-10-30 17:28:58.997696</td>\n",
       "      <td>pbkdf2:sha1:1000$bRndO1Ty$413ed1d3683e3631606c...</td>\n",
       "      <td>r0N+vn719d9kVNnxcV46VEDuvOR2bOV4</td>\n",
       "      <td>5JVW0Me1JjkXvaTM7+0MB6V4NCjHK3Rn</td>\n",
       "    </tr>\n",
       "    <tr>\n",
       "      <th>8</th>\n",
       "      <td>Kasper.vanlombeek2@gmail.com</td>\n",
       "      <td>pbkdf2:sha1:1000$mtXtul3M$6267a1e9559ed7fd7064...</td>\n",
       "      <td>2016-10-30 17:29:33.784859</td>\n",
       "      <td>pbkdf2:sha1:1000$VoHkazjT$ffc5cf0524cfd41f7c10...</td>\n",
       "      <td>r0N+vn719d9kVNnxcV46VEDuvOR2bOV4</td>\n",
       "      <td>5JVW0Me1JjkXvaTM7+0MB6V4NCjHK3Rn</td>\n",
       "    </tr>\n",
       "    <tr>\n",
       "      <th>9</th>\n",
       "      <td>caroline@gmail.com</td>\n",
       "      <td>pbkdf2:sha1:1000$ls8Kfpzw$5c6079251544863b8c5c...</td>\n",
       "      <td>2016-10-30 17:32:28.751487</td>\n",
       "      <td>pbkdf2:sha1:1000$L8q5dCbu$88663adfdbf4ddb767b3...</td>\n",
       "      <td>cMf05P1CNI2Qza9BgbS9Z/QT2mYPrrkO</td>\n",
       "      <td>jVd2lPoEEP+psxLoqN434N6GzDPwdR7O</td>\n",
       "    </tr>\n",
       "    <tr>\n",
       "      <th>10</th>\n",
       "      <td>pieter@gmail.com</td>\n",
       "      <td>pbkdf2:sha1:1000$GR3tBsFt$265c7d431ec8d03ab9fa...</td>\n",
       "      <td>2016-10-30 18:54:52.577470</td>\n",
       "      <td>pbkdf2:sha1:1000$FWxFLXuu$6cbd940bb6642b9b35cb...</td>\n",
       "      <td>1FdoiE5CkhXpASZPAdqEz3J67wN7wn3l</td>\n",
       "      <td>+jMtz1zS2ES3/FYTLab2UuLR7aQ9xlEw</td>\n",
       "    </tr>\n",
       "    <tr>\n",
       "      <th>11</th>\n",
       "      <td>pieterc@gmail.com</td>\n",
       "      <td>pbkdf2:sha1:1000$PJr7PegJ$a2e3aaa754d76baa6f98...</td>\n",
       "      <td>2016-10-30 18:55:35.720033</td>\n",
       "      <td>pbkdf2:sha1:1000$Eu4oxGtU$0ddd446215624a48783e...</td>\n",
       "      <td>9hxst+elm2LQWhNUGqVBSzmOuqa3GPHz</td>\n",
       "      <td>+jMtz1zS2ES3/FYTLab2UuLR7aQ9xlEw</td>\n",
       "    </tr>\n",
       "    <tr>\n",
       "      <th>12</th>\n",
       "      <td>charles@gmail.com</td>\n",
       "      <td>pbkdf2:sha1:1000$h3LWqLiK$23742bc05bdc633f1f2f...</td>\n",
       "      <td>2016-10-30 18:06:50.771431</td>\n",
       "      <td>pbkdf2:sha1:1000$NRgoE9Oh$918ee7dfc3343f0a830b...</td>\n",
       "      <td>qeUmSYvi2uMucAw8AS9mFN8VAbuEuSx5</td>\n",
       "      <td>/G0rF+GTgNJ4e+cUTVY4VtfnBlSuAocB</td>\n",
       "    </tr>\n",
       "  </tbody>\n",
       "</table>\n",
       "</div>"
      ],
      "text/plain": [
       "                           email  \\\n",
       "0    kasper.vanlombeek@gmail.com   \n",
       "1    kasper.vanlombeek@gmail.com   \n",
       "2                 koen@gmail.com   \n",
       "3                karel@gmail.com   \n",
       "4                louis@gmail.com   \n",
       "5             huguette@gmail.com   \n",
       "6               sander@gmail.com   \n",
       "7    Kasper.vanlombeek@gmail.com   \n",
       "8   Kasper.vanlombeek2@gmail.com   \n",
       "9             caroline@gmail.com   \n",
       "10              pieter@gmail.com   \n",
       "11             pieterc@gmail.com   \n",
       "12             charles@gmail.com   \n",
       "\n",
       "                                             password  \\\n",
       "0   pbkdf2:sha1:1000$Wyn71TU8$4b18e5fd9009a64a31f1...   \n",
       "1   pbkdf2:sha1:1000$aWtGdBDn$8755722d67632dc976b0...   \n",
       "2   pbkdf2:sha1:1000$lZylYOh0$b8dafca97d70ca6eb64f...   \n",
       "3   pbkdf2:sha1:1000$uvCgmu9P$f5f064a056ed758f1c67...   \n",
       "4   pbkdf2:sha1:1000$uu7LY5HI$c885b92a94e5a50a608b...   \n",
       "5   pbkdf2:sha1:1000$GyfpfJ6z$90c6880984f9454e8dfe...   \n",
       "6   pbkdf2:sha1:1000$tUUTOTQ3$bd27b5a899611ccdfadc...   \n",
       "7   pbkdf2:sha1:1000$W9yPJiud$70c8c1574b50b96fc64b...   \n",
       "8   pbkdf2:sha1:1000$mtXtul3M$6267a1e9559ed7fd7064...   \n",
       "9   pbkdf2:sha1:1000$ls8Kfpzw$5c6079251544863b8c5c...   \n",
       "10  pbkdf2:sha1:1000$GR3tBsFt$265c7d431ec8d03ab9fa...   \n",
       "11  pbkdf2:sha1:1000$PJr7PegJ$a2e3aaa754d76baa6f98...   \n",
       "12  pbkdf2:sha1:1000$h3LWqLiK$23742bc05bdc633f1f2f...   \n",
       "\n",
       "             registration_time  \\\n",
       "0   2016-10-30 16:34:22.398307   \n",
       "1   2016-10-30 16:34:56.247596   \n",
       "2   2016-10-30 16:44:28.464317   \n",
       "3   2016-10-30 16:58:31.482368   \n",
       "4   2016-10-30 17:11:58.455755   \n",
       "5   2016-10-30 17:15:15.759667   \n",
       "6   2016-10-30 17:38:26.510013   \n",
       "7   2016-10-30 17:28:58.997696   \n",
       "8   2016-10-30 17:29:33.784859   \n",
       "9   2016-10-30 17:32:28.751487   \n",
       "10  2016-10-30 18:54:52.577470   \n",
       "11  2016-10-30 18:55:35.720033   \n",
       "12  2016-10-30 18:06:50.771431   \n",
       "\n",
       "                                      repeat_password  \\\n",
       "0   pbkdf2:sha1:1000$od19ZZ5n$79b108fcd277a0db9040...   \n",
       "1   pbkdf2:sha1:1000$1lOm6auM$9cbe95493e45288ea211...   \n",
       "2   pbkdf2:sha1:1000$kAiAXu0r$4cf5b0b58e467a2b4226...   \n",
       "3   pbkdf2:sha1:1000$xpETNte7$f447cfb7fcf873618e5a...   \n",
       "4   pbkdf2:sha1:1000$djhpb0nF$b0d4783664efb482bf68...   \n",
       "5   pbkdf2:sha1:1000$v8OmfeUX$768173cacca5902d3e26...   \n",
       "6   pbkdf2:sha1:1000$TtrYuCtb$e7ec614ec73ca7e9e970...   \n",
       "7   pbkdf2:sha1:1000$bRndO1Ty$413ed1d3683e3631606c...   \n",
       "8   pbkdf2:sha1:1000$VoHkazjT$ffc5cf0524cfd41f7c10...   \n",
       "9   pbkdf2:sha1:1000$L8q5dCbu$88663adfdbf4ddb767b3...   \n",
       "10  pbkdf2:sha1:1000$FWxFLXuu$6cbd940bb6642b9b35cb...   \n",
       "11  pbkdf2:sha1:1000$Eu4oxGtU$0ddd446215624a48783e...   \n",
       "12  pbkdf2:sha1:1000$NRgoE9Oh$918ee7dfc3343f0a830b...   \n",
       "\n",
       "                          session_id                           user_id  \n",
       "0   ONThR2UgJ11aJ3XtswH7W1mOyme1ZLAv  +jMtz1zS2ES3/FYTLab2UuLR7aQ9xlEw  \n",
       "1   BxxjuR5+15m8/2WBri2XoiBVqAUWzjP8  +jMtz1zS2ES3/FYTLab2UuLR7aQ9xlEw  \n",
       "2   m+ZF6w+DL8PSoM4N2gBIpMxePBkOdbdC  +jMtz1zS2ES3/FYTLab2UuLR7aQ9xlEw  \n",
       "3   6ISLVAlqofMRRH/g8kH7LPtE8Er9P2zA  +jMtz1zS2ES3/FYTLab2UuLR7aQ9xlEw  \n",
       "4   qvFPPjySXsAJoiyqPpSj/K9y0Q/f2sUu  +jMtz1zS2ES3/FYTLab2UuLR7aQ9xlEw  \n",
       "5   +YKilKF3sF0DybkcLVHUnz+rkLpjjGSV  +jMtz1zS2ES3/FYTLab2UuLR7aQ9xlEw  \n",
       "6   YMxDhXfoRFqSEZKNNwjLU8plMvqpmekF  +jMtz1zS2ES3/FYTLab2UuLR7aQ9xlEw  \n",
       "7   r0N+vn719d9kVNnxcV46VEDuvOR2bOV4  5JVW0Me1JjkXvaTM7+0MB6V4NCjHK3Rn  \n",
       "8   r0N+vn719d9kVNnxcV46VEDuvOR2bOV4  5JVW0Me1JjkXvaTM7+0MB6V4NCjHK3Rn  \n",
       "9   cMf05P1CNI2Qza9BgbS9Z/QT2mYPrrkO  jVd2lPoEEP+psxLoqN434N6GzDPwdR7O  \n",
       "10  1FdoiE5CkhXpASZPAdqEz3J67wN7wn3l  +jMtz1zS2ES3/FYTLab2UuLR7aQ9xlEw  \n",
       "11  9hxst+elm2LQWhNUGqVBSzmOuqa3GPHz  +jMtz1zS2ES3/FYTLab2UuLR7aQ9xlEw  \n",
       "12  qeUmSYvi2uMucAw8AS9mFN8VAbuEuSx5  /G0rF+GTgNJ4e+cUTVY4VtfnBlSuAocB  "
      ]
     },
     "execution_count": 91,
     "metadata": {},
     "output_type": "execute_result"
    }
   ],
   "source": [
    "users = pd.read_sql('''SELECT * FROM registered_users ''', con=engine)\n",
    "users"
   ]
  },
  {
   "cell_type": "code",
   "execution_count": 86,
   "metadata": {
    "collapsed": false
   },
   "outputs": [
    {
     "data": {
      "text/plain": [
       "'pbkdf2:sha1:1000$uvCgmu9P$f5f064a056ed758f1c67c83fdc0b4aeec5fd88fb'"
      ]
     },
     "execution_count": 86,
     "metadata": {},
     "output_type": "execute_result"
    }
   ],
   "source": [
    "users['password'][0]"
   ]
  },
  {
   "cell_type": "code",
   "execution_count": 87,
   "metadata": {
    "collapsed": false
   },
   "outputs": [
    {
     "data": {
      "text/plain": [
       "True"
      ]
     },
     "execution_count": 87,
     "metadata": {},
     "output_type": "execute_result"
    }
   ],
   "source": [
    "from werkzeug.security import generate_password_hash, check_password_hash\n",
    "check_password_hash(password = 'karel', pwhash='pbkdf2:sha1:1000$uvCgmu9P$f5f064a056ed758f1c67c83fdc0b4aeec5fd88fb')"
   ]
  },
  {
   "cell_type": "code",
   "execution_count": 55,
   "metadata": {
    "collapsed": false
   },
   "outputs": [],
   "source": [
    "feedback = pd.read_sql('''SELECT * FROM feedback''', con=engine_AWS)\n",
    "feedback.columns = [column.lower() for column in feedback.columns]\n",
    "feedback.to_sql(con=engine_AWS, name='feedback',index=False, if_exists='replace')"
   ]
  },
  {
   "cell_type": "code",
   "execution_count": 68,
   "metadata": {
    "collapsed": false
   },
   "outputs": [
    {
     "data": {
      "text/html": [
       "<div>\n",
       "<table border=\"1\" class=\"dataframe\">\n",
       "  <thead>\n",
       "    <tr style=\"text-align: right;\">\n",
       "      <th></th>\n",
       "      <th>feedback</th>\n",
       "      <th>name</th>\n",
       "      <th>session_id</th>\n",
       "      <th>time</th>\n",
       "      <th>user_id</th>\n",
       "      <th>sex</th>\n",
       "    </tr>\n",
       "  </thead>\n",
       "  <tbody>\n",
       "    <tr>\n",
       "      <th>439</th>\n",
       "      <td>like</td>\n",
       "      <td>Emile</td>\n",
       "      <td>hMErCykJ4PQyxpKyKcVJZJEajQC5oJWt</td>\n",
       "      <td>2016-09-05 11:50:11.941045</td>\n",
       "      <td>wbwCqGiw9/OnompOE6L6vCpIC93t53+U</td>\n",
       "      <td>M</td>\n",
       "    </tr>\n",
       "    <tr>\n",
       "      <th>440</th>\n",
       "      <td>no_like</td>\n",
       "      <td>Richard</td>\n",
       "      <td>hMErCykJ4PQyxpKyKcVJZJEajQC5oJWt</td>\n",
       "      <td>2016-09-05 11:50:19.174217</td>\n",
       "      <td>wbwCqGiw9/OnompOE6L6vCpIC93t53+U</td>\n",
       "      <td>M</td>\n",
       "    </tr>\n",
       "    <tr>\n",
       "      <th>441</th>\n",
       "      <td>no_like</td>\n",
       "      <td>Sasha</td>\n",
       "      <td>hMErCykJ4PQyxpKyKcVJZJEajQC5oJWt</td>\n",
       "      <td>2016-09-05 11:50:54.944717</td>\n",
       "      <td>wbwCqGiw9/OnompOE6L6vCpIC93t53+U</td>\n",
       "      <td>M</td>\n",
       "    </tr>\n",
       "    <tr>\n",
       "      <th>442</th>\n",
       "      <td>no_like</td>\n",
       "      <td>Diego</td>\n",
       "      <td>hMErCykJ4PQyxpKyKcVJZJEajQC5oJWt</td>\n",
       "      <td>2016-09-05 11:51:12.248166</td>\n",
       "      <td>wbwCqGiw9/OnompOE6L6vCpIC93t53+U</td>\n",
       "      <td>M</td>\n",
       "    </tr>\n",
       "    <tr>\n",
       "      <th>443</th>\n",
       "      <td>no_like</td>\n",
       "      <td>Alexis</td>\n",
       "      <td>hMErCykJ4PQyxpKyKcVJZJEajQC5oJWt</td>\n",
       "      <td>2016-09-05 11:51:18.306556</td>\n",
       "      <td>wbwCqGiw9/OnompOE6L6vCpIC93t53+U</td>\n",
       "      <td>M</td>\n",
       "    </tr>\n",
       "  </tbody>\n",
       "</table>\n",
       "</div>"
      ],
      "text/plain": [
       "    feedback     name                        session_id  \\\n",
       "439     like    Emile  hMErCykJ4PQyxpKyKcVJZJEajQC5oJWt   \n",
       "440  no_like  Richard  hMErCykJ4PQyxpKyKcVJZJEajQC5oJWt   \n",
       "441  no_like    Sasha  hMErCykJ4PQyxpKyKcVJZJEajQC5oJWt   \n",
       "442  no_like    Diego  hMErCykJ4PQyxpKyKcVJZJEajQC5oJWt   \n",
       "443  no_like   Alexis  hMErCykJ4PQyxpKyKcVJZJEajQC5oJWt   \n",
       "\n",
       "                           time                           user_id sex  \n",
       "439  2016-09-05 11:50:11.941045  wbwCqGiw9/OnompOE6L6vCpIC93t53+U   M  \n",
       "440  2016-09-05 11:50:19.174217  wbwCqGiw9/OnompOE6L6vCpIC93t53+U   M  \n",
       "441  2016-09-05 11:50:54.944717  wbwCqGiw9/OnompOE6L6vCpIC93t53+U   M  \n",
       "442  2016-09-05 11:51:12.248166  wbwCqGiw9/OnompOE6L6vCpIC93t53+U   M  \n",
       "443  2016-09-05 11:51:18.306556  wbwCqGiw9/OnompOE6L6vCpIC93t53+U   M  "
      ]
     },
     "execution_count": 68,
     "metadata": {},
     "output_type": "execute_result"
    }
   ],
   "source": [
    "pd.read_sql('''SELECT * FROM feedback''', con=engine_AWS).tail()"
   ]
  },
  {
   "cell_type": "code",
   "execution_count": 67,
   "metadata": {
    "collapsed": false
   },
   "outputs": [
    {
     "data": {
      "text/plain": [
       "<sqlalchemy.engine.result.ResultProxy at 0x11d1aa3c8>"
      ]
     },
     "execution_count": 67,
     "metadata": {},
     "output_type": "execute_result"
    }
   ],
   "source": [
    "engine_AWS.execute('''DELETE FROM feedback WHERE time ='F' ''')"
   ]
  },
  {
   "cell_type": "code",
   "execution_count": null,
   "metadata": {
    "collapsed": true
   },
   "outputs": [],
   "source": []
  }
 ],
 "metadata": {
  "anaconda-cloud": {},
  "kernelspec": {
   "display_name": "Python [Root]",
   "language": "python",
   "name": "Python [Root]"
  },
  "language_info": {
   "codemirror_mode": {
    "name": "ipython",
    "version": 3
   },
   "file_extension": ".py",
   "mimetype": "text/x-python",
   "name": "python",
   "nbconvert_exporter": "python",
   "pygments_lexer": "ipython3",
   "version": "3.5.2"
  }
 },
 "nbformat": 4,
 "nbformat_minor": 0
}
