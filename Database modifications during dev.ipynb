{
 "cells": [
  {
   "cell_type": "code",
   "execution_count": 1,
   "metadata": {
    "collapsed": false
   },
   "outputs": [
    {
     "data": {
      "text/html": [
       "<style>.container { width:100% !important; }</style>"
      ],
      "text/plain": [
       "<IPython.core.display.HTML object>"
      ]
     },
     "execution_count": 1,
     "metadata": {},
     "output_type": "execute_result"
    }
   ],
   "source": [
    "import pandas as pd\n",
    "import numpy as np\n",
    "import matplotlib.pyplot as plt\n",
    "import re\n",
    "import sqlite3\n",
    "%matplotlib inline\n",
    "from IPython.core.display import HTML\n",
    "pd.options.display.max_columns = 50\n",
    "import seaborn as sb\n",
    "import datetime\n",
    "HTML(\"<style>.container { width:100% !important; }</style>\")"
   ]
  },
  {
   "cell_type": "code",
   "execution_count": 2,
   "metadata": {
    "collapsed": true
   },
   "outputs": [],
   "source": [
    "sql_conn = sqlite3.connect('flask_app/data/analysed_data.sql')\n",
    "sql_cursor = sql_conn.cursor()"
   ]
  },
  {
   "cell_type": "code",
   "execution_count": 7,
   "metadata": {
    "collapsed": false
   },
   "outputs": [
    {
     "data": {
      "text/html": [
       "<div>\n",
       "<table border=\"1\" class=\"dataframe\">\n",
       "  <thead>\n",
       "    <tr style=\"text-align: right;\">\n",
       "      <th></th>\n",
       "      <th>name_1</th>\n",
       "      <th>name_2</th>\n",
       "      <th>region</th>\n",
       "      <th>session_ID</th>\n",
       "      <th>sex_name_1</th>\n",
       "      <th>sex_name_2</th>\n",
       "      <th>time</th>\n",
       "      <th>user_ID</th>\n",
       "    </tr>\n",
       "  </thead>\n",
       "  <tbody>\n",
       "    <tr>\n",
       "      <th>0</th>\n",
       "      <td>Caroline</td>\n",
       "      <td></td>\n",
       "      <td>Belgie</td>\n",
       "      <td>c3WgKBWpbYWGfJyutOflae77822n2ACG</td>\n",
       "      <td>F</td>\n",
       "      <td>F</td>\n",
       "      <td>2016-09-17 20:17:20.899349</td>\n",
       "      <td>wbwCqGiw9/OnompOE6L6vCpIC93t53+U</td>\n",
       "    </tr>\n",
       "  </tbody>\n",
       "</table>\n",
       "</div>"
      ],
      "text/plain": [
       "     name_1 name_2  region                        session_ID sex_name_1  \\\n",
       "0  Caroline         Belgie  c3WgKBWpbYWGfJyutOflae77822n2ACG          F   \n",
       "\n",
       "  sex_name_2                        time                           user_ID  \n",
       "0          F  2016-09-17 20:17:20.899349  wbwCqGiw9/OnompOE6L6vCpIC93t53+U  "
      ]
     },
     "execution_count": 7,
     "metadata": {},
     "output_type": "execute_result"
    }
   ],
   "source": [
    "pd.read_sql('''SELECT * FROM name_lookups''', con=sql_conn)"
   ]
  },
  {
   "cell_type": "code",
   "execution_count": null,
   "metadata": {
    "collapsed": true
   },
   "outputs": [],
   "source": []
  }
 ],
 "metadata": {
  "anaconda-cloud": {},
  "kernelspec": {
   "display_name": "Python [Root]",
   "language": "python",
   "name": "Python [Root]"
  },
  "language_info": {
   "codemirror_mode": {
    "name": "ipython",
    "version": 3
   },
   "file_extension": ".py",
   "mimetype": "text/x-python",
   "name": "python",
   "nbconvert_exporter": "python",
   "pygments_lexer": "ipython3",
   "version": "3.5.2"
  }
 },
 "nbformat": 4,
 "nbformat_minor": 0
}
