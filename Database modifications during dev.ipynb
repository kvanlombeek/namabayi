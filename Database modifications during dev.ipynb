{
 "cells": [
  {
   "cell_type": "code",
   "execution_count": 1,
   "metadata": {
    "collapsed": false
   },
   "outputs": [
    {
     "data": {
      "text/html": [
       "<style>.container { width:100% !important; }</style>"
      ],
      "text/plain": [
       "<IPython.core.display.HTML object>"
      ]
     },
     "execution_count": 1,
     "metadata": {},
     "output_type": "execute_result"
    }
   ],
   "source": [
    "import pandas as pd\n",
    "import numpy as np\n",
    "import matplotlib.pyplot as plt\n",
    "import re\n",
    "import sqlite3\n",
    "%matplotlib inline\n",
    "from IPython.core.display import HTML\n",
    "pd.options.display.max_columns = 50\n",
    "import seaborn as sb\n",
    "import datetime\n",
    "from sqlalchemy import create_engine\n",
    "import psycopg2\n",
    "HTML(\"<style>.container { width:100% !important; }</style>\")"
   ]
  },
  {
   "cell_type": "code",
   "execution_count": 26,
   "metadata": {
    "collapsed": false
   },
   "outputs": [],
   "source": [
    "#sql_conn_local = sqlite3.connect('flask_app/data/analysed_data.sql')\n",
    "#sql_cursor_local = sql_conn.cursor()\n",
    "engine_AWS = create_engine('postgresql://%s:%s@forespellpostgis.cusejoju89w7.eu-west-1.rds.amazonaws.com:5432/grb_2016_03' %('kasper', 'VosseM08'))"
   ]
  },
  {
   "cell_type": "code",
   "execution_count": 35,
   "metadata": {
    "collapsed": false
   },
   "outputs": [
    {
     "data": {
      "text/html": [
       "<div>\n",
       "<table border=\"1\" class=\"dataframe\">\n",
       "  <thead>\n",
       "    <tr style=\"text-align: right;\">\n",
       "      <th></th>\n",
       "      <th>feedback</th>\n",
       "      <th>name</th>\n",
       "      <th>session_id</th>\n",
       "      <th>time</th>\n",
       "      <th>user_id</th>\n",
       "      <th>sex</th>\n",
       "      <th>rank</th>\n",
       "    </tr>\n",
       "  </thead>\n",
       "  <tbody>\n",
       "    <tr>\n",
       "      <th>1163</th>\n",
       "      <td>like</td>\n",
       "      <td>Karel</td>\n",
       "      <td>1GEwBzlwuUVt7aYmEc/nKrb7qkXwKAHz</td>\n",
       "      <td>2016-10-03 06:40:53.050305</td>\n",
       "      <td>/AuS/thid1WVjx+3wJX6eU71kmFRaEXZ</td>\n",
       "      <td>M</td>\n",
       "      <td>4.0</td>\n",
       "    </tr>\n",
       "    <tr>\n",
       "      <th>1164</th>\n",
       "      <td>like</td>\n",
       "      <td>Louis</td>\n",
       "      <td>1GEwBzlwuUVt7aYmEc/nKrb7qkXwKAHz</td>\n",
       "      <td>2016-10-03 06:41:19.079729</td>\n",
       "      <td>/AuS/thid1WVjx+3wJX6eU71kmFRaEXZ</td>\n",
       "      <td>M</td>\n",
       "      <td>3.0</td>\n",
       "    </tr>\n",
       "    <tr>\n",
       "      <th>1165</th>\n",
       "      <td>like</td>\n",
       "      <td>Louis</td>\n",
       "      <td>idR3F8crkAyZELv9dom8+0QBiRSQnOXM</td>\n",
       "      <td>2016-10-03 06:42:43.797004</td>\n",
       "      <td>RuP2Y+RmwfS6bRJG1dOXrEGTS1uVV6/U</td>\n",
       "      <td>M</td>\n",
       "      <td>1.0</td>\n",
       "    </tr>\n",
       "    <tr>\n",
       "      <th>1166</th>\n",
       "      <td>like</td>\n",
       "      <td>Carl</td>\n",
       "      <td>0S87TN38bR97exYTCk+dcY2K1jf5G8It</td>\n",
       "      <td>2016-10-03 07:43:29.948022</td>\n",
       "      <td>x8t72hkpCGSSNQKv+X5jlMPOkaog8V6R</td>\n",
       "      <td>F</td>\n",
       "      <td>2.0</td>\n",
       "    </tr>\n",
       "    <tr>\n",
       "      <th>1167</th>\n",
       "      <td>like</td>\n",
       "      <td>Pieter</td>\n",
       "      <td>0S87TN38bR97exYTCk+dcY2K1jf5G8It</td>\n",
       "      <td>2016-10-03 07:44:21.359816</td>\n",
       "      <td>x8t72hkpCGSSNQKv+X5jlMPOkaog8V6R</td>\n",
       "      <td>F</td>\n",
       "      <td>1.0</td>\n",
       "    </tr>\n",
       "  </tbody>\n",
       "</table>\n",
       "</div>"
      ],
      "text/plain": [
       "     feedback    name                        session_id  \\\n",
       "1163     like   Karel  1GEwBzlwuUVt7aYmEc/nKrb7qkXwKAHz   \n",
       "1164     like   Louis  1GEwBzlwuUVt7aYmEc/nKrb7qkXwKAHz   \n",
       "1165     like   Louis  idR3F8crkAyZELv9dom8+0QBiRSQnOXM   \n",
       "1166     like    Carl  0S87TN38bR97exYTCk+dcY2K1jf5G8It   \n",
       "1167     like  Pieter  0S87TN38bR97exYTCk+dcY2K1jf5G8It   \n",
       "\n",
       "                            time                           user_id sex  rank  \n",
       "1163  2016-10-03 06:40:53.050305  /AuS/thid1WVjx+3wJX6eU71kmFRaEXZ   M   4.0  \n",
       "1164  2016-10-03 06:41:19.079729  /AuS/thid1WVjx+3wJX6eU71kmFRaEXZ   M   3.0  \n",
       "1165  2016-10-03 06:42:43.797004  RuP2Y+RmwfS6bRJG1dOXrEGTS1uVV6/U   M   1.0  \n",
       "1166  2016-10-03 07:43:29.948022  x8t72hkpCGSSNQKv+X5jlMPOkaog8V6R   F   2.0  \n",
       "1167  2016-10-03 07:44:21.359816  x8t72hkpCGSSNQKv+X5jlMPOkaog8V6R   F   1.0  "
      ]
     },
     "execution_count": 35,
     "metadata": {},
     "output_type": "execute_result"
    }
   ],
   "source": [
    "user_id = \"FSwWq+h3Hxn+sluX7gADjf4WcLVKpxAt\"\n",
    "sql_conn = create_engine('postgresql://%s:%s@forespellpostgis.cusejoju89w7.eu-west-1.rds.amazonaws.com:5432/grb_2016_03' %('kasper', 'VosseM08'))\n",
    "params={'user_id':user_id}\n",
    "query = '''SELECT *\n",
    "                FROM feedback '''\n",
    "feedback = pd.read_sql(sql = query, con=engine_AWS)\n",
    "feedback.tail()"
   ]
  },
  {
   "cell_type": "code",
   "execution_count": 25,
   "metadata": {
    "collapsed": false
   },
   "outputs": [
    {
     "data": {
      "text/html": [
       "<div>\n",
       "<table border=\"1\" class=\"dataframe\">\n",
       "  <thead>\n",
       "    <tr style=\"text-align: right;\">\n",
       "      <th></th>\n",
       "      <th>feedback</th>\n",
       "      <th>name</th>\n",
       "      <th>session_id</th>\n",
       "      <th>time</th>\n",
       "      <th>user_id</th>\n",
       "      <th>sex</th>\n",
       "      <th>rank</th>\n",
       "    </tr>\n",
       "  </thead>\n",
       "  <tbody>\n",
       "    <tr>\n",
       "      <th>1160</th>\n",
       "      <td>like</td>\n",
       "      <td>Kasper</td>\n",
       "      <td>1GEwBzlwuUVt7aYmEc/nKrb7qkXwKAHz</td>\n",
       "      <td>2016-10-03 06:41:14.824751</td>\n",
       "      <td>/AuS/thid1WVjx+3wJX6eU71kmFRaEXZ</td>\n",
       "      <td>M</td>\n",
       "      <td>3.0</td>\n",
       "    </tr>\n",
       "    <tr>\n",
       "      <th>1161</th>\n",
       "      <td>like</td>\n",
       "      <td>Raymond</td>\n",
       "      <td>1GEwBzlwuUVt7aYmEc/nKrb7qkXwKAHz</td>\n",
       "      <td>2016-10-03 06:41:24.643268</td>\n",
       "      <td>/AuS/thid1WVjx+3wJX6eU71kmFRaEXZ</td>\n",
       "      <td>M</td>\n",
       "      <td>5.0</td>\n",
       "    </tr>\n",
       "    <tr>\n",
       "      <th>1162</th>\n",
       "      <td>like</td>\n",
       "      <td>Sander</td>\n",
       "      <td>1GEwBzlwuUVt7aYmEc/nKrb7qkXwKAHz</td>\n",
       "      <td>2016-10-03 06:41:07.838183</td>\n",
       "      <td>/AuS/thid1WVjx+3wJX6eU71kmFRaEXZ</td>\n",
       "      <td>M</td>\n",
       "      <td>1.0</td>\n",
       "    </tr>\n",
       "    <tr>\n",
       "      <th>1163</th>\n",
       "      <td>like</td>\n",
       "      <td>Karel</td>\n",
       "      <td>1GEwBzlwuUVt7aYmEc/nKrb7qkXwKAHz</td>\n",
       "      <td>2016-10-03 06:40:53.050305</td>\n",
       "      <td>/AuS/thid1WVjx+3wJX6eU71kmFRaEXZ</td>\n",
       "      <td>M</td>\n",
       "      <td>4.0</td>\n",
       "    </tr>\n",
       "    <tr>\n",
       "      <th>1164</th>\n",
       "      <td>like</td>\n",
       "      <td>Louis</td>\n",
       "      <td>1GEwBzlwuUVt7aYmEc/nKrb7qkXwKAHz</td>\n",
       "      <td>2016-10-03 06:41:19.079729</td>\n",
       "      <td>/AuS/thid1WVjx+3wJX6eU71kmFRaEXZ</td>\n",
       "      <td>M</td>\n",
       "      <td>3.0</td>\n",
       "    </tr>\n",
       "  </tbody>\n",
       "</table>\n",
       "</div>"
      ],
      "text/plain": [
       "     feedback     name                        session_id  \\\n",
       "1160     like  Kasper   1GEwBzlwuUVt7aYmEc/nKrb7qkXwKAHz   \n",
       "1161     like  Raymond  1GEwBzlwuUVt7aYmEc/nKrb7qkXwKAHz   \n",
       "1162     like   Sander  1GEwBzlwuUVt7aYmEc/nKrb7qkXwKAHz   \n",
       "1163     like    Karel  1GEwBzlwuUVt7aYmEc/nKrb7qkXwKAHz   \n",
       "1164     like    Louis  1GEwBzlwuUVt7aYmEc/nKrb7qkXwKAHz   \n",
       "\n",
       "                            time                           user_id sex  rank  \n",
       "1160  2016-10-03 06:41:14.824751  /AuS/thid1WVjx+3wJX6eU71kmFRaEXZ   M   3.0  \n",
       "1161  2016-10-03 06:41:24.643268  /AuS/thid1WVjx+3wJX6eU71kmFRaEXZ   M   5.0  \n",
       "1162  2016-10-03 06:41:07.838183  /AuS/thid1WVjx+3wJX6eU71kmFRaEXZ   M   1.0  \n",
       "1163  2016-10-03 06:40:53.050305  /AuS/thid1WVjx+3wJX6eU71kmFRaEXZ   M   4.0  \n",
       "1164  2016-10-03 06:41:19.079729  /AuS/thid1WVjx+3wJX6eU71kmFRaEXZ   M   3.0  "
      ]
     },
     "execution_count": 25,
     "metadata": {},
     "output_type": "execute_result"
    }
   ],
   "source": [
    "feedback.loc[feedback['user_id']=='/AuS/thid1WVjx+3wJX6eU71kmFRaEXZ',:]"
   ]
  },
  {
   "cell_type": "code",
   "execution_count": 59,
   "metadata": {
    "collapsed": false
   },
   "outputs": [
    {
     "data": {
      "text/html": [
       "<div>\n",
       "<table border=\"1\" class=\"dataframe\">\n",
       "  <thead>\n",
       "    <tr style=\"text-align: right;\">\n",
       "      <th></th>\n",
       "      <th>feedback</th>\n",
       "      <th>name</th>\n",
       "      <th>session_id</th>\n",
       "      <th>time</th>\n",
       "      <th>user_id</th>\n",
       "      <th>sex</th>\n",
       "      <th>rank</th>\n",
       "    </tr>\n",
       "  </thead>\n",
       "  <tbody>\n",
       "    <tr>\n",
       "      <th>8</th>\n",
       "      <td>no_like</td>\n",
       "      <td>Charlien</td>\n",
       "      <td>O1+UDVItalp5Bbj2I4YXPOFIQo3bg7oW</td>\n",
       "      <td>2016-09-28 20:26:40.927725</td>\n",
       "      <td>LyS8jqGkQaWTGm9lMrkcoffOjOH5lb7P</td>\n",
       "      <td>F</td>\n",
       "      <td>NaN</td>\n",
       "    </tr>\n",
       "    <tr>\n",
       "      <th>3</th>\n",
       "      <td>like</td>\n",
       "      <td>Floris</td>\n",
       "      <td>3ckDw0fIezjXUqx62utv2f1gQt0tAPmU</td>\n",
       "      <td>2016-09-28 08:46:53.124234</td>\n",
       "      <td>LyS8jqGkQaWTGm9lMrkcoffOjOH5lb7P</td>\n",
       "      <td>M</td>\n",
       "      <td>1.0</td>\n",
       "    </tr>\n",
       "    <tr>\n",
       "      <th>10</th>\n",
       "      <td>like</td>\n",
       "      <td>Cleo</td>\n",
       "      <td>gE6plbU54qjo/sqinvt/Xhs6rQxLqafF</td>\n",
       "      <td>2016-09-28 08:49:34.833191</td>\n",
       "      <td>LyS8jqGkQaWTGm9lMrkcoffOjOH5lb7P</td>\n",
       "      <td>F</td>\n",
       "      <td>1.0</td>\n",
       "    </tr>\n",
       "    <tr>\n",
       "      <th>0</th>\n",
       "      <td>like</td>\n",
       "      <td>Ensar</td>\n",
       "      <td>3ckDw0fIezjXUqx62utv2f1gQt0tAPmU</td>\n",
       "      <td>2016-09-28 08:46:44.988279</td>\n",
       "      <td>LyS8jqGkQaWTGm9lMrkcoffOjOH5lb7P</td>\n",
       "      <td>M</td>\n",
       "      <td>2.0</td>\n",
       "    </tr>\n",
       "    <tr>\n",
       "      <th>7</th>\n",
       "      <td>no_like</td>\n",
       "      <td>Marion</td>\n",
       "      <td>aWy20Aii1BbwdMMqpCJ44m9D9Y9q8rsz</td>\n",
       "      <td>2016-09-28 20:28:51.022527</td>\n",
       "      <td>LyS8jqGkQaWTGm9lMrkcoffOjOH5lb7P</td>\n",
       "      <td>F</td>\n",
       "      <td>NaN</td>\n",
       "    </tr>\n",
       "  </tbody>\n",
       "</table>\n",
       "</div>"
      ],
      "text/plain": [
       "   feedback      name                        session_id  \\\n",
       "8   no_like  Charlien  O1+UDVItalp5Bbj2I4YXPOFIQo3bg7oW   \n",
       "3      like    Floris  3ckDw0fIezjXUqx62utv2f1gQt0tAPmU   \n",
       "10     like      Cleo  gE6plbU54qjo/sqinvt/Xhs6rQxLqafF   \n",
       "0      like     Ensar  3ckDw0fIezjXUqx62utv2f1gQt0tAPmU   \n",
       "7   no_like    Marion  aWy20Aii1BbwdMMqpCJ44m9D9Y9q8rsz   \n",
       "\n",
       "                          time                           user_id sex  rank  \n",
       "8   2016-09-28 20:26:40.927725  LyS8jqGkQaWTGm9lMrkcoffOjOH5lb7P   F   NaN  \n",
       "3   2016-09-28 08:46:53.124234  LyS8jqGkQaWTGm9lMrkcoffOjOH5lb7P   M   1.0  \n",
       "10  2016-09-28 08:49:34.833191  LyS8jqGkQaWTGm9lMrkcoffOjOH5lb7P   F   1.0  \n",
       "0   2016-09-28 08:46:44.988279  LyS8jqGkQaWTGm9lMrkcoffOjOH5lb7P   M   2.0  \n",
       "7   2016-09-28 20:28:51.022527  LyS8jqGkQaWTGm9lMrkcoffOjOH5lb7P   F   NaN  "
      ]
     },
     "execution_count": 59,
     "metadata": {},
     "output_type": "execute_result"
    }
   ],
   "source": [
    "feedback['rank'] = [np.nan, 1, 1,2,np.nan]\n",
    "feedback"
   ]
  },
  {
   "cell_type": "code",
   "execution_count": 60,
   "metadata": {
    "collapsed": false
   },
   "outputs": [],
   "source": [
    "feedback.to_sql(name='feedback', con=engine_AWS, index=False, if_exists='replace')"
   ]
  },
  {
   "cell_type": "code",
   "execution_count": 17,
   "metadata": {
    "collapsed": false
   },
   "outputs": [
    {
     "data": {
      "text/html": [
       "<div>\n",
       "<table border=\"1\" class=\"dataframe\">\n",
       "  <thead>\n",
       "    <tr style=\"text-align: right;\">\n",
       "      <th></th>\n",
       "      <th>feedback</th>\n",
       "      <th>name</th>\n",
       "      <th>session_id</th>\n",
       "      <th>time</th>\n",
       "      <th>user_id</th>\n",
       "      <th>sex</th>\n",
       "      <th>rank</th>\n",
       "    </tr>\n",
       "  </thead>\n",
       "  <tbody>\n",
       "    <tr>\n",
       "      <th>2958</th>\n",
       "      <td>like</td>\n",
       "      <td>Léonore</td>\n",
       "      <td>j08w5bz8Lp483tgo/KEx58WQXowrJLBU</td>\n",
       "      <td>2016-09-25 10:16:22.476111</td>\n",
       "      <td>DheKqIVxTxby4pI77THJ2lF5zfcfeOrW</td>\n",
       "      <td>F</td>\n",
       "      <td>1</td>\n",
       "    </tr>\n",
       "    <tr>\n",
       "      <th>2972</th>\n",
       "      <td>like</td>\n",
       "      <td>Mette</td>\n",
       "      <td>j08w5bz8Lp483tgo/KEx58WQXowrJLBU</td>\n",
       "      <td>2016-09-25 10:16:36.890298</td>\n",
       "      <td>DheKqIVxTxby4pI77THJ2lF5zfcfeOrW</td>\n",
       "      <td>F</td>\n",
       "      <td>2</td>\n",
       "    </tr>\n",
       "    <tr>\n",
       "      <th>2998</th>\n",
       "      <td>like</td>\n",
       "      <td>Mari</td>\n",
       "      <td>j08w5bz8Lp483tgo/KEx58WQXowrJLBU</td>\n",
       "      <td>2016-09-25 10:17:07.713955</td>\n",
       "      <td>DheKqIVxTxby4pI77THJ2lF5zfcfeOrW</td>\n",
       "      <td>F</td>\n",
       "      <td>3</td>\n",
       "    </tr>\n",
       "    <tr>\n",
       "      <th>2999</th>\n",
       "      <td>like</td>\n",
       "      <td>June</td>\n",
       "      <td>j08w5bz8Lp483tgo/KEx58WQXowrJLBU</td>\n",
       "      <td>2016-09-25 10:17:12.505608</td>\n",
       "      <td>DheKqIVxTxby4pI77THJ2lF5zfcfeOrW</td>\n",
       "      <td>F</td>\n",
       "      <td>4</td>\n",
       "    </tr>\n",
       "    <tr>\n",
       "      <th>3000</th>\n",
       "      <td>like</td>\n",
       "      <td>Ella-Noor</td>\n",
       "      <td>j08w5bz8Lp483tgo/KEx58WQXowrJLBU</td>\n",
       "      <td>2016-09-25 10:17:27.359498</td>\n",
       "      <td>DheKqIVxTxby4pI77THJ2lF5zfcfeOrW</td>\n",
       "      <td>F</td>\n",
       "      <td>5</td>\n",
       "    </tr>\n",
       "  </tbody>\n",
       "</table>\n",
       "</div>"
      ],
      "text/plain": [
       "     feedback       name                        session_id  \\\n",
       "2958     like    Léonore  j08w5bz8Lp483tgo/KEx58WQXowrJLBU   \n",
       "2972     like      Mette  j08w5bz8Lp483tgo/KEx58WQXowrJLBU   \n",
       "2998     like       Mari  j08w5bz8Lp483tgo/KEx58WQXowrJLBU   \n",
       "2999     like       June  j08w5bz8Lp483tgo/KEx58WQXowrJLBU   \n",
       "3000     like  Ella-Noor  j08w5bz8Lp483tgo/KEx58WQXowrJLBU   \n",
       "\n",
       "                            time                           user_id sex rank  \n",
       "2958  2016-09-25 10:16:22.476111  DheKqIVxTxby4pI77THJ2lF5zfcfeOrW   F    1  \n",
       "2972  2016-09-25 10:16:36.890298  DheKqIVxTxby4pI77THJ2lF5zfcfeOrW   F    2  \n",
       "2998  2016-09-25 10:17:07.713955  DheKqIVxTxby4pI77THJ2lF5zfcfeOrW   F    3  \n",
       "2999  2016-09-25 10:17:12.505608  DheKqIVxTxby4pI77THJ2lF5zfcfeOrW   F    4  \n",
       "3000  2016-09-25 10:17:27.359498  DheKqIVxTxby4pI77THJ2lF5zfcfeOrW   F    5  "
      ]
     },
     "execution_count": 17,
     "metadata": {},
     "output_type": "execute_result"
    }
   ],
   "source": [
    "likes.loc[likes['user_id'] == 'DheKqIVxTxby4pI77THJ2lF5zfcfeOrW',:]"
   ]
  },
  {
   "cell_type": "code",
   "execution_count": 16,
   "metadata": {
    "collapsed": false
   },
   "outputs": [],
   "source": [
    "lookups = pd.read_sql('''SELECT * FROM name_lookups''', con=engine_AWS)\n",
    "lookups = lookups.loc[lookups['region']!='',:]\n",
    "lookups.to_sql(name = 'name_lookups', index=False, con = engine_AWS, if_exists = 'replace')"
   ]
  },
  {
   "cell_type": "code",
   "execution_count": 71,
   "metadata": {
    "collapsed": false
   },
   "outputs": [
    {
     "data": {
      "text/html": [
       "<div>\n",
       "<table border=\"1\" class=\"dataframe\">\n",
       "  <thead>\n",
       "    <tr style=\"text-align: right;\">\n",
       "      <th></th>\n",
       "      <th>feedback</th>\n",
       "      <th>name</th>\n",
       "      <th>session_id</th>\n",
       "      <th>time</th>\n",
       "      <th>user_id</th>\n",
       "      <th>sex</th>\n",
       "    </tr>\n",
       "  </thead>\n",
       "  <tbody>\n",
       "    <tr>\n",
       "      <th>439</th>\n",
       "      <td>like</td>\n",
       "      <td>Emile</td>\n",
       "      <td>hMErCykJ4PQyxpKyKcVJZJEajQC5oJWt</td>\n",
       "      <td>2016-09-05 11:50:11.941045</td>\n",
       "      <td>wbwCqGiw9/OnompOE6L6vCpIC93t53+U</td>\n",
       "      <td>M</td>\n",
       "    </tr>\n",
       "    <tr>\n",
       "      <th>440</th>\n",
       "      <td>no_like</td>\n",
       "      <td>Richard</td>\n",
       "      <td>hMErCykJ4PQyxpKyKcVJZJEajQC5oJWt</td>\n",
       "      <td>2016-09-05 11:50:19.174217</td>\n",
       "      <td>wbwCqGiw9/OnompOE6L6vCpIC93t53+U</td>\n",
       "      <td>M</td>\n",
       "    </tr>\n",
       "    <tr>\n",
       "      <th>441</th>\n",
       "      <td>no_like</td>\n",
       "      <td>Sasha</td>\n",
       "      <td>hMErCykJ4PQyxpKyKcVJZJEajQC5oJWt</td>\n",
       "      <td>2016-09-05 11:50:54.944717</td>\n",
       "      <td>wbwCqGiw9/OnompOE6L6vCpIC93t53+U</td>\n",
       "      <td>M</td>\n",
       "    </tr>\n",
       "    <tr>\n",
       "      <th>442</th>\n",
       "      <td>no_like</td>\n",
       "      <td>Diego</td>\n",
       "      <td>hMErCykJ4PQyxpKyKcVJZJEajQC5oJWt</td>\n",
       "      <td>2016-09-05 11:51:12.248166</td>\n",
       "      <td>wbwCqGiw9/OnompOE6L6vCpIC93t53+U</td>\n",
       "      <td>M</td>\n",
       "    </tr>\n",
       "    <tr>\n",
       "      <th>443</th>\n",
       "      <td>no_like</td>\n",
       "      <td>Alexis</td>\n",
       "      <td>hMErCykJ4PQyxpKyKcVJZJEajQC5oJWt</td>\n",
       "      <td>2016-09-05 11:51:18.306556</td>\n",
       "      <td>wbwCqGiw9/OnompOE6L6vCpIC93t53+U</td>\n",
       "      <td>M</td>\n",
       "    </tr>\n",
       "  </tbody>\n",
       "</table>\n",
       "</div>"
      ],
      "text/plain": [
       "    feedback     name                        session_id  \\\n",
       "439     like    Emile  hMErCykJ4PQyxpKyKcVJZJEajQC5oJWt   \n",
       "440  no_like  Richard  hMErCykJ4PQyxpKyKcVJZJEajQC5oJWt   \n",
       "441  no_like    Sasha  hMErCykJ4PQyxpKyKcVJZJEajQC5oJWt   \n",
       "442  no_like    Diego  hMErCykJ4PQyxpKyKcVJZJEajQC5oJWt   \n",
       "443  no_like   Alexis  hMErCykJ4PQyxpKyKcVJZJEajQC5oJWt   \n",
       "\n",
       "                           time                           user_id sex  \n",
       "439  2016-09-05 11:50:11.941045  wbwCqGiw9/OnompOE6L6vCpIC93t53+U   M  \n",
       "440  2016-09-05 11:50:19.174217  wbwCqGiw9/OnompOE6L6vCpIC93t53+U   M  \n",
       "441  2016-09-05 11:50:54.944717  wbwCqGiw9/OnompOE6L6vCpIC93t53+U   M  \n",
       "442  2016-09-05 11:51:12.248166  wbwCqGiw9/OnompOE6L6vCpIC93t53+U   M  \n",
       "443  2016-09-05 11:51:18.306556  wbwCqGiw9/OnompOE6L6vCpIC93t53+U   M  "
      ]
     },
     "execution_count": 71,
     "metadata": {},
     "output_type": "execute_result"
    }
   ],
   "source": [
    "pd.read_sql('''SELECT * FROM feedback''', con=engine_AWS).tail(5)"
   ]
  },
  {
   "cell_type": "code",
   "execution_count": 72,
   "metadata": {
    "collapsed": false
   },
   "outputs": [
    {
     "data": {
      "text/html": [
       "<div>\n",
       "<table border=\"1\" class=\"dataframe\">\n",
       "  <thead>\n",
       "    <tr style=\"text-align: right;\">\n",
       "      <th></th>\n",
       "      <th>ip_address</th>\n",
       "      <th>session_ID</th>\n",
       "      <th>time</th>\n",
       "      <th>user_ID</th>\n",
       "      <th>user_agent</th>\n",
       "      <th>window_height</th>\n",
       "      <th>window_width</th>\n",
       "    </tr>\n",
       "  </thead>\n",
       "  <tbody>\n",
       "    <tr>\n",
       "      <th>333</th>\n",
       "      <td>127.0.0.1</td>\n",
       "      <td>ttCDD+WANqAHGuhwlRURWYX+mvEz0Afk</td>\n",
       "      <td>2016-09-18 17:08:05.412191</td>\n",
       "      <td>3gG4j0QstaS/DoYZfBTQMlCOfcoo7/0G</td>\n",
       "      <td>Mozilla/5.0 (Macintosh; Intel Mac OS X 10.10; ...</td>\n",
       "      <td>766</td>\n",
       "      <td>1440</td>\n",
       "    </tr>\n",
       "    <tr>\n",
       "      <th>334</th>\n",
       "      <td>127.0.0.1</td>\n",
       "      <td>ia4CIb19ASzCJW2m70yhuVgy/8vejcpN</td>\n",
       "      <td>2016-09-18 17:08:50.166670</td>\n",
       "      <td>gyIivrZNDOiis8mhj7J9nSHeSbeRIEOa</td>\n",
       "      <td>Mozilla/5.0 (Macintosh; Intel Mac OS X 10_10_3...</td>\n",
       "      <td>150</td>\n",
       "      <td>1280</td>\n",
       "    </tr>\n",
       "    <tr>\n",
       "      <th>335</th>\n",
       "      <td>127.0.0.1</td>\n",
       "      <td>b5cDg8b2SPAe5tLhyxMNCUeQwA3436qK</td>\n",
       "      <td>2016-09-18 17:10:03.835002</td>\n",
       "      <td>gyIivrZNDOiis8mhj7J9nSHeSbeRIEOa</td>\n",
       "      <td>Mozilla/5.0 (Macintosh; Intel Mac OS X 10_10_3...</td>\n",
       "      <td>391</td>\n",
       "      <td>1280</td>\n",
       "    </tr>\n",
       "    <tr>\n",
       "      <th>336</th>\n",
       "      <td>127.0.0.1</td>\n",
       "      <td>E0IcScWf0sQqcglXrMGgMAF6J2XhrYCT</td>\n",
       "      <td>2016-09-18 17:11:02.722404</td>\n",
       "      <td>gyIivrZNDOiis8mhj7J9nSHeSbeRIEOa</td>\n",
       "      <td>Mozilla/5.0 (Macintosh; Intel Mac OS X 10_10_3...</td>\n",
       "      <td>391</td>\n",
       "      <td>1280</td>\n",
       "    </tr>\n",
       "    <tr>\n",
       "      <th>337</th>\n",
       "      <td>127.0.0.1</td>\n",
       "      <td>JwLm6IqN9rP5P+T73l8dpX0fyJtYrF9v</td>\n",
       "      <td>2016-09-18 17:12:35.963271</td>\n",
       "      <td>gyIivrZNDOiis8mhj7J9nSHeSbeRIEOa</td>\n",
       "      <td>Mozilla/5.0 (Macintosh; Intel Mac OS X 10_10_3...</td>\n",
       "      <td>391</td>\n",
       "      <td>1280</td>\n",
       "    </tr>\n",
       "  </tbody>\n",
       "</table>\n",
       "</div>"
      ],
      "text/plain": [
       "    ip_address                        session_ID                        time  \\\n",
       "333  127.0.0.1  ttCDD+WANqAHGuhwlRURWYX+mvEz0Afk  2016-09-18 17:08:05.412191   \n",
       "334  127.0.0.1  ia4CIb19ASzCJW2m70yhuVgy/8vejcpN  2016-09-18 17:08:50.166670   \n",
       "335  127.0.0.1  b5cDg8b2SPAe5tLhyxMNCUeQwA3436qK  2016-09-18 17:10:03.835002   \n",
       "336  127.0.0.1  E0IcScWf0sQqcglXrMGgMAF6J2XhrYCT  2016-09-18 17:11:02.722404   \n",
       "337  127.0.0.1  JwLm6IqN9rP5P+T73l8dpX0fyJtYrF9v  2016-09-18 17:12:35.963271   \n",
       "\n",
       "                              user_ID  \\\n",
       "333  3gG4j0QstaS/DoYZfBTQMlCOfcoo7/0G   \n",
       "334  gyIivrZNDOiis8mhj7J9nSHeSbeRIEOa   \n",
       "335  gyIivrZNDOiis8mhj7J9nSHeSbeRIEOa   \n",
       "336  gyIivrZNDOiis8mhj7J9nSHeSbeRIEOa   \n",
       "337  gyIivrZNDOiis8mhj7J9nSHeSbeRIEOa   \n",
       "\n",
       "                                            user_agent window_height  \\\n",
       "333  Mozilla/5.0 (Macintosh; Intel Mac OS X 10.10; ...           766   \n",
       "334  Mozilla/5.0 (Macintosh; Intel Mac OS X 10_10_3...           150   \n",
       "335  Mozilla/5.0 (Macintosh; Intel Mac OS X 10_10_3...           391   \n",
       "336  Mozilla/5.0 (Macintosh; Intel Mac OS X 10_10_3...           391   \n",
       "337  Mozilla/5.0 (Macintosh; Intel Mac OS X 10_10_3...           391   \n",
       "\n",
       "    window_width  \n",
       "333         1440  \n",
       "334         1280  \n",
       "335         1280  \n",
       "336         1280  \n",
       "337         1280  "
      ]
     },
     "execution_count": 72,
     "metadata": {},
     "output_type": "execute_result"
    }
   ],
   "source": [
    "pd.read_sql('''SELECT * FROM sessions''', con=engine_AWS).tail(5)"
   ]
  },
  {
   "cell_type": "code",
   "execution_count": 55,
   "metadata": {
    "collapsed": false
   },
   "outputs": [],
   "source": [
    "feedback = pd.read_sql('''SELECT * FROM feedback''', con=engine_AWS)\n",
    "feedback.columns = [column.lower() for column in feedback.columns]\n",
    "feedback.to_sql(con=engine_AWS, name='feedback',index=False, if_exists='replace')"
   ]
  },
  {
   "cell_type": "code",
   "execution_count": 68,
   "metadata": {
    "collapsed": false
   },
   "outputs": [
    {
     "data": {
      "text/html": [
       "<div>\n",
       "<table border=\"1\" class=\"dataframe\">\n",
       "  <thead>\n",
       "    <tr style=\"text-align: right;\">\n",
       "      <th></th>\n",
       "      <th>feedback</th>\n",
       "      <th>name</th>\n",
       "      <th>session_id</th>\n",
       "      <th>time</th>\n",
       "      <th>user_id</th>\n",
       "      <th>sex</th>\n",
       "    </tr>\n",
       "  </thead>\n",
       "  <tbody>\n",
       "    <tr>\n",
       "      <th>439</th>\n",
       "      <td>like</td>\n",
       "      <td>Emile</td>\n",
       "      <td>hMErCykJ4PQyxpKyKcVJZJEajQC5oJWt</td>\n",
       "      <td>2016-09-05 11:50:11.941045</td>\n",
       "      <td>wbwCqGiw9/OnompOE6L6vCpIC93t53+U</td>\n",
       "      <td>M</td>\n",
       "    </tr>\n",
       "    <tr>\n",
       "      <th>440</th>\n",
       "      <td>no_like</td>\n",
       "      <td>Richard</td>\n",
       "      <td>hMErCykJ4PQyxpKyKcVJZJEajQC5oJWt</td>\n",
       "      <td>2016-09-05 11:50:19.174217</td>\n",
       "      <td>wbwCqGiw9/OnompOE6L6vCpIC93t53+U</td>\n",
       "      <td>M</td>\n",
       "    </tr>\n",
       "    <tr>\n",
       "      <th>441</th>\n",
       "      <td>no_like</td>\n",
       "      <td>Sasha</td>\n",
       "      <td>hMErCykJ4PQyxpKyKcVJZJEajQC5oJWt</td>\n",
       "      <td>2016-09-05 11:50:54.944717</td>\n",
       "      <td>wbwCqGiw9/OnompOE6L6vCpIC93t53+U</td>\n",
       "      <td>M</td>\n",
       "    </tr>\n",
       "    <tr>\n",
       "      <th>442</th>\n",
       "      <td>no_like</td>\n",
       "      <td>Diego</td>\n",
       "      <td>hMErCykJ4PQyxpKyKcVJZJEajQC5oJWt</td>\n",
       "      <td>2016-09-05 11:51:12.248166</td>\n",
       "      <td>wbwCqGiw9/OnompOE6L6vCpIC93t53+U</td>\n",
       "      <td>M</td>\n",
       "    </tr>\n",
       "    <tr>\n",
       "      <th>443</th>\n",
       "      <td>no_like</td>\n",
       "      <td>Alexis</td>\n",
       "      <td>hMErCykJ4PQyxpKyKcVJZJEajQC5oJWt</td>\n",
       "      <td>2016-09-05 11:51:18.306556</td>\n",
       "      <td>wbwCqGiw9/OnompOE6L6vCpIC93t53+U</td>\n",
       "      <td>M</td>\n",
       "    </tr>\n",
       "  </tbody>\n",
       "</table>\n",
       "</div>"
      ],
      "text/plain": [
       "    feedback     name                        session_id  \\\n",
       "439     like    Emile  hMErCykJ4PQyxpKyKcVJZJEajQC5oJWt   \n",
       "440  no_like  Richard  hMErCykJ4PQyxpKyKcVJZJEajQC5oJWt   \n",
       "441  no_like    Sasha  hMErCykJ4PQyxpKyKcVJZJEajQC5oJWt   \n",
       "442  no_like    Diego  hMErCykJ4PQyxpKyKcVJZJEajQC5oJWt   \n",
       "443  no_like   Alexis  hMErCykJ4PQyxpKyKcVJZJEajQC5oJWt   \n",
       "\n",
       "                           time                           user_id sex  \n",
       "439  2016-09-05 11:50:11.941045  wbwCqGiw9/OnompOE6L6vCpIC93t53+U   M  \n",
       "440  2016-09-05 11:50:19.174217  wbwCqGiw9/OnompOE6L6vCpIC93t53+U   M  \n",
       "441  2016-09-05 11:50:54.944717  wbwCqGiw9/OnompOE6L6vCpIC93t53+U   M  \n",
       "442  2016-09-05 11:51:12.248166  wbwCqGiw9/OnompOE6L6vCpIC93t53+U   M  \n",
       "443  2016-09-05 11:51:18.306556  wbwCqGiw9/OnompOE6L6vCpIC93t53+U   M  "
      ]
     },
     "execution_count": 68,
     "metadata": {},
     "output_type": "execute_result"
    }
   ],
   "source": [
    "pd.read_sql('''SELECT * FROM feedback''', con=engine_AWS).tail()"
   ]
  },
  {
   "cell_type": "code",
   "execution_count": 67,
   "metadata": {
    "collapsed": false
   },
   "outputs": [
    {
     "data": {
      "text/plain": [
       "<sqlalchemy.engine.result.ResultProxy at 0x11d1aa3c8>"
      ]
     },
     "execution_count": 67,
     "metadata": {},
     "output_type": "execute_result"
    }
   ],
   "source": [
    "engine_AWS.execute('''DELETE FROM feedback WHERE time ='F' ''')"
   ]
  },
  {
   "cell_type": "code",
   "execution_count": null,
   "metadata": {
    "collapsed": true
   },
   "outputs": [],
   "source": []
  }
 ],
 "metadata": {
  "anaconda-cloud": {},
  "kernelspec": {
   "display_name": "Python [Root]",
   "language": "python",
   "name": "Python [Root]"
  },
  "language_info": {
   "codemirror_mode": {
    "name": "ipython",
    "version": 3
   },
   "file_extension": ".py",
   "mimetype": "text/x-python",
   "name": "python",
   "nbconvert_exporter": "python",
   "pygments_lexer": "ipython3",
   "version": "3.5.2"
  }
 },
 "nbformat": 4,
 "nbformat_minor": 0
}
