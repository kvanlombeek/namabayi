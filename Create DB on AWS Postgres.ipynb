{
 "cells": [
  {
   "cell_type": "code",
   "execution_count": 2,
   "metadata": {
    "collapsed": false
   },
   "outputs": [
    {
     "data": {
      "text/html": [
       "<style>.container { width:100% !important; }</style>"
      ],
      "text/plain": [
       "<IPython.core.display.HTML object>"
      ]
     },
     "execution_count": 2,
     "metadata": {},
     "output_type": "execute_result"
    }
   ],
   "source": [
    "import json\n",
    "import pandas as pd\n",
    "import numpy as np\n",
    "from sqlalchemy import create_engine\n",
    "import time\n",
    "import datetime\n",
    "from IPython.core.display import HTML\n",
    "pd.options.display.max_columns = 50\n",
    "import seaborn as sb\n",
    "import datetime\n",
    "import psycopg2\n",
    "HTML(\"<style>.container { width:100% !important; }</style>\")"
   ]
  },
  {
   "cell_type": "code",
   "execution_count": 1,
   "metadata": {
    "collapsed": false
   },
   "outputs": [
    {
     "ename": "NameError",
     "evalue": "name 'create_engine' is not defined",
     "output_type": "error",
     "traceback": [
      "\u001b[0;31m---------------------------------------------------------------------------\u001b[0m",
      "\u001b[0;31mNameError\u001b[0m                                 Traceback (most recent call last)",
      "\u001b[0;32m<ipython-input-1-d234e14617a4>\u001b[0m in \u001b[0;36m<module>\u001b[0;34m()\u001b[0m\n\u001b[0;32m----> 1\u001b[0;31m \u001b[0mengine\u001b[0m \u001b[0;34m=\u001b[0m \u001b[0mcreate_engine\u001b[0m\u001b[0;34m(\u001b[0m\u001b[0;34m'postgresql://%s:%s@forespellpostgis.cusejoju89w7.eu-west-1.rds.amazonaws.com:5432/grb_2016_03'\u001b[0m \u001b[0;34m%\u001b[0m\u001b[0;34m(\u001b[0m\u001b[0;34m'kasper'\u001b[0m\u001b[0;34m,\u001b[0m \u001b[0;34m'VosseM08'\u001b[0m\u001b[0;34m)\u001b[0m\u001b[0;34m)\u001b[0m\u001b[0;34m\u001b[0m\u001b[0m\n\u001b[0m\u001b[1;32m      2\u001b[0m \u001b[0mrestaurants_head\u001b[0m \u001b[0;34m=\u001b[0m \u001b[0mpd\u001b[0m\u001b[0;34m.\u001b[0m\u001b[0mread_sql\u001b[0m\u001b[0;34m(\u001b[0m\u001b[0;34m'''SELECT * FROM grb_2016_08.gbg LIMIT 10'''\u001b[0m\u001b[0;34m,\u001b[0m \u001b[0mengine\u001b[0m\u001b[0;34m)\u001b[0m\u001b[0;34m\u001b[0m\u001b[0m\n\u001b[1;32m      3\u001b[0m \u001b[0mrestaurants_head\u001b[0m\u001b[0;34m\u001b[0m\u001b[0m\n",
      "\u001b[0;31mNameError\u001b[0m: name 'create_engine' is not defined"
     ]
    }
   ],
   "source": [
    "engine = create_engine('postgresql://%s:%s@forespellpostgis.cusejoju89w7.eu-west-1.rds.amazonaws.com:5432/grb_2016_03' %('kasper', 'VosseM08'))\n",
    "restaurants_head = pd.read_sql('''SELECT * FROM grb_2016_08.gbg LIMIT 10''', engine)\n",
    "restaurants_head"
   ]
  },
  {
   "cell_type": "markdown",
   "metadata": {},
   "source": [
    "## Create schema"
   ]
  },
  {
   "cell_type": "code",
   "execution_count": 9,
   "metadata": {
    "collapsed": false
   },
   "outputs": [],
   "source": []
  },
  {
   "cell_type": "code",
   "execution_count": 10,
   "metadata": {
    "collapsed": false
   },
   "outputs": [
    {
     "data": {
      "text/html": [
       "<div>\n",
       "<table border=\"1\" class=\"dataframe\">\n",
       "  <thead>\n",
       "    <tr style=\"text-align: right;\">\n",
       "      <th></th>\n",
       "      <th>ogc_fid</th>\n",
       "      <th>wkb_geometry</th>\n",
       "      <th>uidn</th>\n",
       "      <th>oidn</th>\n",
       "      <th>type</th>\n",
       "      <th>lbltype</th>\n",
       "      <th>opndatum</th>\n",
       "      <th>lengte</th>\n",
       "      <th>oppervl</th>\n",
       "    </tr>\n",
       "  </thead>\n",
       "  <tbody>\n",
       "    <tr>\n",
       "      <th>0</th>\n",
       "      <td>1</td>\n",
       "      <td>01060000208A7A0000010000000103000000010000000E...</td>\n",
       "      <td>916546.0</td>\n",
       "      <td>874633.0</td>\n",
       "      <td>1</td>\n",
       "      <td>hoofdgebouw</td>\n",
       "      <td>2008-10-28</td>\n",
       "      <td>47.92</td>\n",
       "      <td>122.39</td>\n",
       "    </tr>\n",
       "    <tr>\n",
       "      <th>1</th>\n",
       "      <td>2</td>\n",
       "      <td>01060000208A7A00000100000001030000000100000005...</td>\n",
       "      <td>596692.0</td>\n",
       "      <td>555240.0</td>\n",
       "      <td>1</td>\n",
       "      <td>hoofdgebouw</td>\n",
       "      <td>2006-03-31</td>\n",
       "      <td>32.34</td>\n",
       "      <td>48.43</td>\n",
       "    </tr>\n",
       "    <tr>\n",
       "      <th>2</th>\n",
       "      <td>3</td>\n",
       "      <td>01060000208A7A0000010000000103000000010000000F...</td>\n",
       "      <td>916782.0</td>\n",
       "      <td>874869.0</td>\n",
       "      <td>1</td>\n",
       "      <td>hoofdgebouw</td>\n",
       "      <td>2008-10-28</td>\n",
       "      <td>44.05</td>\n",
       "      <td>116.56</td>\n",
       "    </tr>\n",
       "    <tr>\n",
       "      <th>3</th>\n",
       "      <td>4</td>\n",
       "      <td>01060000208A7A00000100000001030000000100000005...</td>\n",
       "      <td>596082.0</td>\n",
       "      <td>554630.0</td>\n",
       "      <td>2</td>\n",
       "      <td>bijgebouw</td>\n",
       "      <td>2006-03-31</td>\n",
       "      <td>25.19</td>\n",
       "      <td>33.85</td>\n",
       "    </tr>\n",
       "    <tr>\n",
       "      <th>4</th>\n",
       "      <td>5</td>\n",
       "      <td>01060000208A7A00000100000001030000000100000008...</td>\n",
       "      <td>601303.0</td>\n",
       "      <td>559851.0</td>\n",
       "      <td>2</td>\n",
       "      <td>bijgebouw</td>\n",
       "      <td>2006-09-22</td>\n",
       "      <td>24.00</td>\n",
       "      <td>33.51</td>\n",
       "    </tr>\n",
       "    <tr>\n",
       "      <th>5</th>\n",
       "      <td>6</td>\n",
       "      <td>01060000208A7A00000100000001030000000100000005...</td>\n",
       "      <td>623432.0</td>\n",
       "      <td>581980.0</td>\n",
       "      <td>1</td>\n",
       "      <td>hoofdgebouw</td>\n",
       "      <td>2007-07-06</td>\n",
       "      <td>49.04</td>\n",
       "      <td>146.20</td>\n",
       "    </tr>\n",
       "    <tr>\n",
       "      <th>6</th>\n",
       "      <td>7</td>\n",
       "      <td>01060000208A7A00000100000001030000000100000008...</td>\n",
       "      <td>594903.0</td>\n",
       "      <td>553451.0</td>\n",
       "      <td>1</td>\n",
       "      <td>hoofdgebouw</td>\n",
       "      <td>2006-05-05</td>\n",
       "      <td>38.77</td>\n",
       "      <td>88.42</td>\n",
       "    </tr>\n",
       "    <tr>\n",
       "      <th>7</th>\n",
       "      <td>8</td>\n",
       "      <td>01060000208A7A00000100000001030000000100000008...</td>\n",
       "      <td>614547.0</td>\n",
       "      <td>573095.0</td>\n",
       "      <td>1</td>\n",
       "      <td>hoofdgebouw</td>\n",
       "      <td>2007-02-16</td>\n",
       "      <td>73.48</td>\n",
       "      <td>144.61</td>\n",
       "    </tr>\n",
       "    <tr>\n",
       "      <th>8</th>\n",
       "      <td>9</td>\n",
       "      <td>01060000208A7A00000100000001030000000100000007...</td>\n",
       "      <td>620139.0</td>\n",
       "      <td>578687.0</td>\n",
       "      <td>2</td>\n",
       "      <td>bijgebouw</td>\n",
       "      <td>2007-06-01</td>\n",
       "      <td>20.77</td>\n",
       "      <td>25.56</td>\n",
       "    </tr>\n",
       "    <tr>\n",
       "      <th>9</th>\n",
       "      <td>10</td>\n",
       "      <td>01060000208A7A00000100000001030000000100000005...</td>\n",
       "      <td>619464.0</td>\n",
       "      <td>578012.0</td>\n",
       "      <td>2</td>\n",
       "      <td>bijgebouw</td>\n",
       "      <td>2007-06-01</td>\n",
       "      <td>20.35</td>\n",
       "      <td>22.05</td>\n",
       "    </tr>\n",
       "  </tbody>\n",
       "</table>\n",
       "</div>"
      ],
      "text/plain": [
       "   ogc_fid                                       wkb_geometry      uidn  \\\n",
       "0        1  01060000208A7A0000010000000103000000010000000E...  916546.0   \n",
       "1        2  01060000208A7A00000100000001030000000100000005...  596692.0   \n",
       "2        3  01060000208A7A0000010000000103000000010000000F...  916782.0   \n",
       "3        4  01060000208A7A00000100000001030000000100000005...  596082.0   \n",
       "4        5  01060000208A7A00000100000001030000000100000008...  601303.0   \n",
       "5        6  01060000208A7A00000100000001030000000100000005...  623432.0   \n",
       "6        7  01060000208A7A00000100000001030000000100000008...  594903.0   \n",
       "7        8  01060000208A7A00000100000001030000000100000008...  614547.0   \n",
       "8        9  01060000208A7A00000100000001030000000100000007...  620139.0   \n",
       "9       10  01060000208A7A00000100000001030000000100000005...  619464.0   \n",
       "\n",
       "       oidn  type      lbltype    opndatum  lengte  oppervl  \n",
       "0  874633.0     1  hoofdgebouw  2008-10-28   47.92   122.39  \n",
       "1  555240.0     1  hoofdgebouw  2006-03-31   32.34    48.43  \n",
       "2  874869.0     1  hoofdgebouw  2008-10-28   44.05   116.56  \n",
       "3  554630.0     2    bijgebouw  2006-03-31   25.19    33.85  \n",
       "4  559851.0     2    bijgebouw  2006-09-22   24.00    33.51  \n",
       "5  581980.0     1  hoofdgebouw  2007-07-06   49.04   146.20  \n",
       "6  553451.0     1  hoofdgebouw  2006-05-05   38.77    88.42  \n",
       "7  573095.0     1  hoofdgebouw  2007-02-16   73.48   144.61  \n",
       "8  578687.0     2    bijgebouw  2007-06-01   20.77    25.56  \n",
       "9  578012.0     2    bijgebouw  2007-06-01   20.35    22.05  "
      ]
     },
     "execution_count": 10,
     "metadata": {},
     "output_type": "execute_result"
    }
   ],
   "source": [
    "restaurants_head"
   ]
  },
  {
   "cell_type": "code",
   "execution_count": null,
   "metadata": {
    "collapsed": true
   },
   "outputs": [],
   "source": []
  }
 ],
 "metadata": {
  "anaconda-cloud": {},
  "kernelspec": {
   "display_name": "Python [Root]",
   "language": "python",
   "name": "Python [Root]"
  },
  "language_info": {
   "codemirror_mode": {
    "name": "ipython",
    "version": 3
   },
   "file_extension": ".py",
   "mimetype": "text/x-python",
   "name": "python",
   "nbconvert_exporter": "python",
   "pygments_lexer": "ipython3",
   "version": "3.5.2"
  }
 },
 "nbformat": 4,
 "nbformat_minor": 0
}
